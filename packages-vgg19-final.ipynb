{
 "cells": [
  {
   "cell_type": "code",
   "execution_count": 1,
   "id": "27f8895b",
   "metadata": {
    "_cell_guid": "b1076dfc-b9ad-4769-8c92-a6c4dae69d19",
    "_uuid": "8f2839f25d086af736a60e9eeb907d3b93b6e0e5",
    "execution": {
     "iopub.execute_input": "2021-12-29T15:16:54.825953Z",
     "iopub.status.busy": "2021-12-29T15:16:54.815515Z",
     "iopub.status.idle": "2021-12-29T15:17:01.011848Z",
     "shell.execute_reply": "2021-12-29T15:17:01.011038Z",
     "shell.execute_reply.started": "2021-12-29T14:07:35.698107Z"
    },
    "papermill": {
     "duration": 6.2155,
     "end_time": "2021-12-29T15:17:01.012003",
     "exception": false,
     "start_time": "2021-12-29T15:16:54.796503",
     "status": "completed"
    },
    "tags": []
   },
   "outputs": [],
   "source": [
    "from __future__ import absolute_import, division, print_function\n",
    "import numpy as np\n",
    "import collections\n",
    "import math\n",
    "import os\n",
    "import random\n",
    "from six.moves import urllib\n",
    "import io\n",
    "import shutil\n",
    "import matplotlib.pyplot as plt\n",
    "import seaborn as sns\n",
    "from IPython.display import clear_output, Image, display, HTML\n",
    "import tensorflow as tf\n",
    "import tensorflow_hub as hub\n",
    "import sklearn.metrics as sk_metrics\n",
    "import time\n",
    "from tensorflow.python.keras.preprocessing.image import ImageDataGenerator\n",
    "from tensorflow.keras import optimizers, layers, models\n",
    "from tensorflow.keras.preprocessing import image\n",
    "from tensorflow.keras import regularizers\n",
    "from tensorflow.keras.models import Model, Sequential\n",
    "from tensorflow.keras.layers import Dense, GlobalAveragePooling2D, BatchNormalization, Dropout, Flatten\n",
    "from tensorflow.keras import backend as K\n",
    "from keras.utils.vis_utils import plot_model\n",
    "from keras.callbacks import EarlyStopping, ModelCheckpoint\n",
    "from tensorflow.keras.applications import VGG16\n",
    "from tensorflow.keras.applications import VGG19\n",
    "from sklearn.metrics import confusion_matrix, classification_report\n",
    "# import warnings\n",
    "# warnings.filterwarnings('ignore')"
   ]
  },
  {
   "cell_type": "markdown",
   "id": "ef1bee48",
   "metadata": {
    "papermill": {
     "duration": 0.013906,
     "end_time": "2021-12-29T15:17:01.040497",
     "exception": false,
     "start_time": "2021-12-29T15:17:01.026591",
     "status": "completed"
    },
    "tags": []
   },
   "source": [
    "### Packages data path"
   ]
  },
  {
   "cell_type": "code",
   "execution_count": 2,
   "id": "52150922",
   "metadata": {
    "execution": {
     "iopub.execute_input": "2021-12-29T15:17:01.072580Z",
     "iopub.status.busy": "2021-12-29T15:17:01.071808Z",
     "iopub.status.idle": "2021-12-29T15:17:01.073710Z",
     "shell.execute_reply": "2021-12-29T15:17:01.074182Z",
     "shell.execute_reply.started": "2021-12-29T14:07:41.736667Z"
    },
    "papermill": {
     "duration": 0.019941,
     "end_time": "2021-12-29T15:17:01.074311",
     "exception": false,
     "start_time": "2021-12-29T15:17:01.054370",
     "status": "completed"
    },
    "tags": []
   },
   "outputs": [],
   "source": [
    "## set train, validation, and test paths\n",
    "train_path = '../input/datasetfinal/dataset70-10-20/train/Packages'\n",
    "validation_path = '../input/datasetfinal/dataset70-10-20/val/Packages'\n",
    "test_path = '../input/datasetfinal/dataset70-10-20/test/Packages'"
   ]
  },
  {
   "cell_type": "code",
   "execution_count": 3,
   "id": "5e750572",
   "metadata": {
    "execution": {
     "iopub.execute_input": "2021-12-29T15:17:01.106372Z",
     "iopub.status.busy": "2021-12-29T15:17:01.105837Z",
     "iopub.status.idle": "2021-12-29T15:17:01.261753Z",
     "shell.execute_reply": "2021-12-29T15:17:01.262201Z",
     "shell.execute_reply.started": "2021-12-29T14:07:41.747414Z"
    },
    "papermill": {
     "duration": 0.174224,
     "end_time": "2021-12-29T15:17:01.262340",
     "exception": false,
     "start_time": "2021-12-29T15:17:01.088116",
     "status": "completed"
    },
    "tags": []
   },
   "outputs": [
    {
     "name": "stdout",
     "output_type": "stream",
     "text": [
      "31\n",
      "['Arla-Sour-Cream', 'Arla-Lactose-Medium-Fat-Milk', 'Alpro-Shelf-Soy-Milk', 'Tropicana-Apple-Juice', 'Arla-Natural-Yoghurt', 'Arla-Natural-Mild-Low-Fat-Yoghurt', 'Bravo-Orange-Juice', 'God-Morgon-Apple-Juice', 'Alpro-Blueberry-Soyghurt', 'God-Morgon-Red-Grapefruit-Juice', 'Oatly-Natural-Oatghurt', 'Alpro-Vanilla-Soyghurt', 'Tropicana-Juice-Smooth', 'Bravo-Apple-Juice', 'Arla-Mild-Vanilla-Yoghurt', 'Tropicana-Mandarin-Morning', 'Yoggi-Vanilla-Yoghurt', 'Yoggi-Strawberry-Yoghurt', 'Arla-Ecological-Medium-Fat-Milk', 'Valio-Vanilla-Yoghurt', 'Arla-Medium-Fat-Milk', 'Garant-Ecological-Medium-Fat-Milk', 'Arla-Standard-Milk', 'Alpro-Fresh-Soy-Milk', 'God-Morgon-Orange-Juice', 'Arla-Ecological-Sour-Cream', 'God-Morgon-Orange-Red-Grapefruit-Juice', 'Arla-Sour-Milk', 'Tropicana-Golden-Grapefruit', 'Oatly-Oat-Milk', 'Garant-Ecological-Standard-Milk']\n"
     ]
    }
   ],
   "source": [
    "classes=[]\n",
    "for root, subdirectories, files in os.walk(train_path):\n",
    "    for subdirectory in subdirectories:\n",
    "        classes.append(subdirectory)\n",
    "print(len(classes))\n",
    "print(classes)"
   ]
  },
  {
   "cell_type": "code",
   "execution_count": 4,
   "id": "bfd16ace",
   "metadata": {
    "execution": {
     "iopub.execute_input": "2021-12-29T15:17:01.293643Z",
     "iopub.status.busy": "2021-12-29T15:17:01.292834Z",
     "iopub.status.idle": "2021-12-29T15:17:01.607483Z",
     "shell.execute_reply": "2021-12-29T15:17:01.606856Z",
     "shell.execute_reply.started": "2021-12-29T14:07:41.938104Z"
    },
    "papermill": {
     "duration": 0.33107,
     "end_time": "2021-12-29T15:17:01.607656",
     "exception": false,
     "start_time": "2021-12-29T15:17:01.276586",
     "status": "completed"
    },
    "tags": []
   },
   "outputs": [
    {
     "name": "stdout",
     "output_type": "stream",
     "text": [
      "Found 1218 images belonging to 31 classes.\n",
      "Found 162 images belonging to 31 classes.\n",
      "Found 378 images belonging to 31 classes.\n"
     ]
    }
   ],
   "source": [
    "train_batches  = ImageDataGenerator().flow_from_directory(\n",
    "    train_path, target_size=(224, 224), classes = classes, batch_size = 50)\n",
    "\n",
    "validation_batches  = ImageDataGenerator().flow_from_directory(\n",
    "    validation_path, target_size=(224, 224), classes = classes, batch_size = 10)\n",
    "\n",
    "test_batches  = ImageDataGenerator().flow_from_directory(\n",
    "    test_path, target_size=(224, 224), classes = classes, batch_size = 10)"
   ]
  },
  {
   "cell_type": "markdown",
   "id": "03bfbda1",
   "metadata": {
    "papermill": {
     "duration": 0.014722,
     "end_time": "2021-12-29T15:17:01.638540",
     "exception": false,
     "start_time": "2021-12-29T15:17:01.623818",
     "status": "completed"
    },
    "tags": []
   },
   "source": [
    "## Data Augmentation"
   ]
  },
  {
   "cell_type": "code",
   "execution_count": 5,
   "id": "e628e636",
   "metadata": {
    "execution": {
     "iopub.execute_input": "2021-12-29T15:17:01.674572Z",
     "iopub.status.busy": "2021-12-29T15:17:01.673727Z",
     "iopub.status.idle": "2021-12-29T15:17:01.990390Z",
     "shell.execute_reply": "2021-12-29T15:17:01.989883Z",
     "shell.execute_reply.started": "2021-12-29T14:07:50.431231Z"
    },
    "papermill": {
     "duration": 0.337336,
     "end_time": "2021-12-29T15:17:01.990514",
     "exception": false,
     "start_time": "2021-12-29T15:17:01.653178",
     "status": "completed"
    },
    "tags": []
   },
   "outputs": [
    {
     "name": "stdout",
     "output_type": "stream",
     "text": [
      "Found 1218 images belonging to 31 classes.\n",
      "Found 378 images belonging to 31 classes.\n",
      "Found 162 images belonging to 31 classes.\n"
     ]
    }
   ],
   "source": [
    "## Augmentation datagenerator\n",
    "train_datagen_aug = ImageDataGenerator(\n",
    "        rotation_range=40,\n",
    "        width_shift_range=0.2,\n",
    "        height_shift_range=0.2,\n",
    "        fill_mode='nearest',\n",
    "        rescale=1./255,\n",
    "        zoom_range=0.2)\n",
    "\n",
    "## train generator\n",
    "train_generator_aug = train_datagen_aug.flow_from_directory(\n",
    "        train_path,\n",
    "        target_size=(224, 224),\n",
    "        batch_size=25,\n",
    "        class_mode='categorical')\n",
    "\n",
    "## test generator, required for prediction\n",
    "test_datagen = ImageDataGenerator(rescale=1./255)\n",
    "\n",
    "test_generator = test_datagen.flow_from_directory(\n",
    "        test_path,\n",
    "        target_size=(224, 224),\n",
    "        batch_size=1,\n",
    "        shuffle = False,\n",
    "        class_mode='categorical')\n",
    "\n",
    "## validation generator\n",
    "val_generator = test_datagen.flow_from_directory(\n",
    "        validation_path,\n",
    "        target_size=(224, 224),\n",
    "        batch_size=10,\n",
    "        class_mode='categorical')"
   ]
  },
  {
   "cell_type": "code",
   "execution_count": 6,
   "id": "fee444ad",
   "metadata": {
    "execution": {
     "iopub.execute_input": "2021-12-29T15:17:02.026267Z",
     "iopub.status.busy": "2021-12-29T15:17:02.025517Z",
     "iopub.status.idle": "2021-12-29T15:17:02.027468Z",
     "shell.execute_reply": "2021-12-29T15:17:02.027858Z",
     "shell.execute_reply.started": "2021-12-29T14:07:54.860472Z"
    },
    "papermill": {
     "duration": 0.022165,
     "end_time": "2021-12-29T15:17:02.027976",
     "exception": false,
     "start_time": "2021-12-29T15:17:02.005811",
     "status": "completed"
    },
    "tags": []
   },
   "outputs": [],
   "source": [
    "## set steps per epoch for train\n",
    "train_filenames = train_generator_aug.filenames\n",
    "steps_train = len(train_filenames)/train_generator_aug.batch_size\n",
    "\n",
    "## set steps per epoch for validation\n",
    "val_filenames = val_generator.filenames\n",
    "steps_val = len(val_filenames)/val_generator.batch_size\n",
    "\n",
    "## test\n",
    "filenames_test = test_generator.filenames\n",
    "nb_samples_test= len(filenames_test)\n",
    "true_classes = test_generator.classes\n",
    "target_names = classes"
   ]
  },
  {
   "cell_type": "markdown",
   "id": "bf64874a",
   "metadata": {
    "papermill": {
     "duration": 0.015787,
     "end_time": "2021-12-29T15:17:02.058900",
     "exception": false,
     "start_time": "2021-12-29T15:17:02.043113",
     "status": "completed"
    },
    "tags": []
   },
   "source": [
    "## VGG19 with Augmentation and DropOut"
   ]
  },
  {
   "cell_type": "code",
   "execution_count": 7,
   "id": "08d53a71",
   "metadata": {
    "execution": {
     "iopub.execute_input": "2021-12-29T15:17:02.095486Z",
     "iopub.status.busy": "2021-12-29T15:17:02.094924Z",
     "iopub.status.idle": "2021-12-29T15:17:06.839702Z",
     "shell.execute_reply": "2021-12-29T15:17:06.838909Z",
     "shell.execute_reply.started": "2021-12-29T14:12:40.329525Z"
    },
    "papermill": {
     "duration": 4.76579,
     "end_time": "2021-12-29T15:17:06.839838",
     "exception": false,
     "start_time": "2021-12-29T15:17:02.074048",
     "status": "completed"
    },
    "tags": []
   },
   "outputs": [
    {
     "name": "stderr",
     "output_type": "stream",
     "text": [
      "2021-12-29 15:17:02.185969: I tensorflow/stream_executor/cuda/cuda_gpu_executor.cc:937] successful NUMA node read from SysFS had negative value (-1), but there must be at least one NUMA node, so returning NUMA node zero\n",
      "2021-12-29 15:17:02.282504: I tensorflow/stream_executor/cuda/cuda_gpu_executor.cc:937] successful NUMA node read from SysFS had negative value (-1), but there must be at least one NUMA node, so returning NUMA node zero\n",
      "2021-12-29 15:17:02.283335: I tensorflow/stream_executor/cuda/cuda_gpu_executor.cc:937] successful NUMA node read from SysFS had negative value (-1), but there must be at least one NUMA node, so returning NUMA node zero\n",
      "2021-12-29 15:17:02.284575: I tensorflow/core/platform/cpu_feature_guard.cc:142] This TensorFlow binary is optimized with oneAPI Deep Neural Network Library (oneDNN) to use the following CPU instructions in performance-critical operations:  AVX2 AVX512F FMA\n",
      "To enable them in other operations, rebuild TensorFlow with the appropriate compiler flags.\n",
      "2021-12-29 15:17:02.285684: I tensorflow/stream_executor/cuda/cuda_gpu_executor.cc:937] successful NUMA node read from SysFS had negative value (-1), but there must be at least one NUMA node, so returning NUMA node zero\n",
      "2021-12-29 15:17:02.286343: I tensorflow/stream_executor/cuda/cuda_gpu_executor.cc:937] successful NUMA node read from SysFS had negative value (-1), but there must be at least one NUMA node, so returning NUMA node zero\n",
      "2021-12-29 15:17:02.286958: I tensorflow/stream_executor/cuda/cuda_gpu_executor.cc:937] successful NUMA node read from SysFS had negative value (-1), but there must be at least one NUMA node, so returning NUMA node zero\n",
      "2021-12-29 15:17:04.254567: I tensorflow/stream_executor/cuda/cuda_gpu_executor.cc:937] successful NUMA node read from SysFS had negative value (-1), but there must be at least one NUMA node, so returning NUMA node zero\n",
      "2021-12-29 15:17:04.255419: I tensorflow/stream_executor/cuda/cuda_gpu_executor.cc:937] successful NUMA node read from SysFS had negative value (-1), but there must be at least one NUMA node, so returning NUMA node zero\n",
      "2021-12-29 15:17:04.256037: I tensorflow/stream_executor/cuda/cuda_gpu_executor.cc:937] successful NUMA node read from SysFS had negative value (-1), but there must be at least one NUMA node, so returning NUMA node zero\n",
      "2021-12-29 15:17:04.256629: I tensorflow/core/common_runtime/gpu/gpu_device.cc:1510] Created device /job:localhost/replica:0/task:0/device:GPU:0 with 15403 MB memory:  -> device: 0, name: Tesla P100-PCIE-16GB, pci bus id: 0000:00:04.0, compute capability: 6.0\n"
     ]
    },
    {
     "name": "stdout",
     "output_type": "stream",
     "text": [
      "Downloading data from https://storage.googleapis.com/tensorflow/keras-applications/vgg19/vgg19_weights_tf_dim_ordering_tf_kernels_notop.h5\n",
      "80142336/80134624 [==============================] - 2s 0us/step\n",
      "80150528/80134624 [==============================] - 2s 0us/step\n",
      "Model: \"vgg19\"\n",
      "_________________________________________________________________\n",
      "Layer (type)                 Output Shape              Param #   \n",
      "=================================================================\n",
      "input_1 (InputLayer)         [(None, 224, 224, 3)]     0         \n",
      "_________________________________________________________________\n",
      "block1_conv1 (Conv2D)        (None, 224, 224, 64)      1792      \n",
      "_________________________________________________________________\n",
      "block1_conv2 (Conv2D)        (None, 224, 224, 64)      36928     \n",
      "_________________________________________________________________\n",
      "block1_pool (MaxPooling2D)   (None, 112, 112, 64)      0         \n",
      "_________________________________________________________________\n",
      "block2_conv1 (Conv2D)        (None, 112, 112, 128)     73856     \n",
      "_________________________________________________________________\n",
      "block2_conv2 (Conv2D)        (None, 112, 112, 128)     147584    \n",
      "_________________________________________________________________\n",
      "block2_pool (MaxPooling2D)   (None, 56, 56, 128)       0         \n",
      "_________________________________________________________________\n",
      "block3_conv1 (Conv2D)        (None, 56, 56, 256)       295168    \n",
      "_________________________________________________________________\n",
      "block3_conv2 (Conv2D)        (None, 56, 56, 256)       590080    \n",
      "_________________________________________________________________\n",
      "block3_conv3 (Conv2D)        (None, 56, 56, 256)       590080    \n",
      "_________________________________________________________________\n",
      "block3_conv4 (Conv2D)        (None, 56, 56, 256)       590080    \n",
      "_________________________________________________________________\n",
      "block3_pool (MaxPooling2D)   (None, 28, 28, 256)       0         \n",
      "_________________________________________________________________\n",
      "block4_conv1 (Conv2D)        (None, 28, 28, 512)       1180160   \n",
      "_________________________________________________________________\n",
      "block4_conv2 (Conv2D)        (None, 28, 28, 512)       2359808   \n",
      "_________________________________________________________________\n",
      "block4_conv3 (Conv2D)        (None, 28, 28, 512)       2359808   \n",
      "_________________________________________________________________\n",
      "block4_conv4 (Conv2D)        (None, 28, 28, 512)       2359808   \n",
      "_________________________________________________________________\n",
      "block4_pool (MaxPooling2D)   (None, 14, 14, 512)       0         \n",
      "_________________________________________________________________\n",
      "block5_conv1 (Conv2D)        (None, 14, 14, 512)       2359808   \n",
      "_________________________________________________________________\n",
      "block5_conv2 (Conv2D)        (None, 14, 14, 512)       2359808   \n",
      "_________________________________________________________________\n",
      "block5_conv3 (Conv2D)        (None, 14, 14, 512)       2359808   \n",
      "_________________________________________________________________\n",
      "block5_conv4 (Conv2D)        (None, 14, 14, 512)       2359808   \n",
      "_________________________________________________________________\n",
      "block5_pool (MaxPooling2D)   (None, 7, 7, 512)         0         \n",
      "=================================================================\n",
      "Total params: 20,024,384\n",
      "Trainable params: 20,024,384\n",
      "Non-trainable params: 0\n",
      "_________________________________________________________________\n"
     ]
    }
   ],
   "source": [
    "base_model_vgg19 = VGG19(weights = 'imagenet',include_top=False, input_shape=(224, 224, 3))  #not include the 3 fully-connected layers at the top of the network.\n",
    "base_model_vgg19.summary()\n",
    "#plot_model(base_model_vgg19)\n",
    "\n",
    "base_model_vgg19.trainable = False"
   ]
  },
  {
   "cell_type": "code",
   "execution_count": 8,
   "id": "3dba1108",
   "metadata": {
    "execution": {
     "iopub.execute_input": "2021-12-29T15:17:06.886927Z",
     "iopub.status.busy": "2021-12-29T15:17:06.886160Z",
     "iopub.status.idle": "2021-12-29T15:17:06.997472Z",
     "shell.execute_reply": "2021-12-29T15:17:06.997893Z",
     "shell.execute_reply.started": "2021-12-29T14:12:57.012488Z"
    },
    "papermill": {
     "duration": 0.138698,
     "end_time": "2021-12-29T15:17:06.998033",
     "exception": false,
     "start_time": "2021-12-29T15:17:06.859335",
     "status": "completed"
    },
    "tags": []
   },
   "outputs": [
    {
     "name": "stdout",
     "output_type": "stream",
     "text": [
      "Model: \"sequential\"\n",
      "_________________________________________________________________\n",
      "Layer (type)                 Output Shape              Param #   \n",
      "=================================================================\n",
      "block1_conv1 (Conv2D)        (None, 224, 224, 64)      1792      \n",
      "_________________________________________________________________\n",
      "block1_conv2 (Conv2D)        (None, 224, 224, 64)      36928     \n",
      "_________________________________________________________________\n",
      "block1_pool (MaxPooling2D)   (None, 112, 112, 64)      0         \n",
      "_________________________________________________________________\n",
      "block2_conv1 (Conv2D)        (None, 112, 112, 128)     73856     \n",
      "_________________________________________________________________\n",
      "block2_conv2 (Conv2D)        (None, 112, 112, 128)     147584    \n",
      "_________________________________________________________________\n",
      "block2_pool (MaxPooling2D)   (None, 56, 56, 128)       0         \n",
      "_________________________________________________________________\n",
      "block3_conv1 (Conv2D)        (None, 56, 56, 256)       295168    \n",
      "_________________________________________________________________\n",
      "block3_conv2 (Conv2D)        (None, 56, 56, 256)       590080    \n",
      "_________________________________________________________________\n",
      "block3_conv3 (Conv2D)        (None, 56, 56, 256)       590080    \n",
      "_________________________________________________________________\n",
      "block3_conv4 (Conv2D)        (None, 56, 56, 256)       590080    \n",
      "_________________________________________________________________\n",
      "block3_pool (MaxPooling2D)   (None, 28, 28, 256)       0         \n",
      "_________________________________________________________________\n",
      "block4_conv1 (Conv2D)        (None, 28, 28, 512)       1180160   \n",
      "_________________________________________________________________\n",
      "block4_conv2 (Conv2D)        (None, 28, 28, 512)       2359808   \n",
      "_________________________________________________________________\n",
      "block4_conv3 (Conv2D)        (None, 28, 28, 512)       2359808   \n",
      "_________________________________________________________________\n",
      "block4_conv4 (Conv2D)        (None, 28, 28, 512)       2359808   \n",
      "_________________________________________________________________\n",
      "block4_pool (MaxPooling2D)   (None, 14, 14, 512)       0         \n",
      "_________________________________________________________________\n",
      "block5_conv1 (Conv2D)        (None, 14, 14, 512)       2359808   \n",
      "_________________________________________________________________\n",
      "block5_conv2 (Conv2D)        (None, 14, 14, 512)       2359808   \n",
      "_________________________________________________________________\n",
      "block5_conv3 (Conv2D)        (None, 14, 14, 512)       2359808   \n",
      "_________________________________________________________________\n",
      "block5_conv4 (Conv2D)        (None, 14, 14, 512)       2359808   \n",
      "_________________________________________________________________\n",
      "block5_pool (MaxPooling2D)   (None, 7, 7, 512)         0         \n",
      "_________________________________________________________________\n",
      "global_average_pooling2d (Gl (None, 512)               0         \n",
      "_________________________________________________________________\n",
      "dropout (Dropout)            (None, 512)               0         \n",
      "_________________________________________________________________\n",
      "dense (Dense)                (None, 31)                15903     \n",
      "=================================================================\n",
      "Total params: 20,040,287\n",
      "Trainable params: 2,375,711\n",
      "Non-trainable params: 17,664,576\n",
      "_________________________________________________________________\n"
     ]
    }
   ],
   "source": [
    "translearn_vgg19 = Sequential()\n",
    "\n",
    "# Add vgg19 layer by layer to our model and freeze all\n",
    "for layer in base_model_vgg19.layers:\n",
    "    translearn_vgg19.add(layer)\n",
    "    \n",
    "# train last two layers of vgg19\n",
    "for layer in translearn_vgg19.layers[-2:]:\n",
    "    layer.trainable=True\n",
    "    \n",
    "translearn_vgg19.add(GlobalAveragePooling2D())\n",
    "translearn_vgg19.add(Dropout(0.2))\n",
    "translearn_vgg19.add(Dense(31, activation='softmax'))\n",
    "translearn_vgg19.summary()"
   ]
  },
  {
   "cell_type": "code",
   "execution_count": 9,
   "id": "f0ad3289",
   "metadata": {
    "execution": {
     "iopub.execute_input": "2021-12-29T15:17:07.051062Z",
     "iopub.status.busy": "2021-12-29T15:17:07.045578Z",
     "iopub.status.idle": "2021-12-29T15:46:02.972493Z",
     "shell.execute_reply": "2021-12-29T15:46:02.972906Z",
     "shell.execute_reply.started": "2021-12-29T14:13:53.117068Z"
    },
    "papermill": {
     "duration": 1735.954098,
     "end_time": "2021-12-29T15:46:02.973097",
     "exception": false,
     "start_time": "2021-12-29T15:17:07.018999",
     "status": "completed"
    },
    "tags": []
   },
   "outputs": [
    {
     "name": "stderr",
     "output_type": "stream",
     "text": [
      "2021-12-29 15:17:07.578247: I tensorflow/compiler/mlir/mlir_graph_optimization_pass.cc:185] None of the MLIR Optimization Passes are enabled (registered 2)\n"
     ]
    },
    {
     "name": "stdout",
     "output_type": "stream",
     "text": [
      "Epoch 1/100\n"
     ]
    },
    {
     "name": "stderr",
     "output_type": "stream",
     "text": [
      "2021-12-29 15:17:10.006033: I tensorflow/stream_executor/cuda/cuda_dnn.cc:369] Loaded cuDNN version 8005\n"
     ]
    },
    {
     "name": "stdout",
     "output_type": "stream",
     "text": [
      "48/48 [==============================] - 32s 467ms/step - loss: 3.3767 - acc: 0.1305 - val_loss: 2.4824 - val_acc: 0.2840\n",
      "Epoch 2/100\n",
      "48/48 [==============================] - 17s 343ms/step - loss: 2.3195 - acc: 0.3621 - val_loss: 1.4176 - val_acc: 0.6543\n",
      "Epoch 3/100\n",
      "48/48 [==============================] - 18s 370ms/step - loss: 1.6040 - acc: 0.5279 - val_loss: 1.0086 - val_acc: 0.7160\n",
      "Epoch 4/100\n",
      "48/48 [==============================] - 16s 334ms/step - loss: 1.2081 - acc: 0.6453 - val_loss: 0.7743 - val_acc: 0.7407\n",
      "Epoch 5/100\n",
      "48/48 [==============================] - 17s 358ms/step - loss: 0.9253 - acc: 0.7151 - val_loss: 0.5404 - val_acc: 0.8210\n",
      "Epoch 6/100\n",
      "48/48 [==============================] - 16s 333ms/step - loss: 0.8022 - acc: 0.7545 - val_loss: 0.5033 - val_acc: 0.8210\n",
      "Epoch 7/100\n",
      "48/48 [==============================] - 17s 352ms/step - loss: 0.7043 - acc: 0.8054 - val_loss: 0.3670 - val_acc: 0.8827\n",
      "Epoch 8/100\n",
      "48/48 [==============================] - 16s 336ms/step - loss: 0.5762 - acc: 0.8358 - val_loss: 0.3627 - val_acc: 0.8827\n",
      "Epoch 9/100\n",
      "48/48 [==============================] - 17s 355ms/step - loss: 0.5185 - acc: 0.8440 - val_loss: 0.2891 - val_acc: 0.8951\n",
      "Epoch 10/100\n",
      "48/48 [==============================] - 16s 332ms/step - loss: 0.4720 - acc: 0.8571 - val_loss: 0.2569 - val_acc: 0.9074\n",
      "Epoch 11/100\n",
      "48/48 [==============================] - 17s 350ms/step - loss: 0.4157 - acc: 0.8810 - val_loss: 0.2442 - val_acc: 0.9198\n",
      "Epoch 12/100\n",
      "48/48 [==============================] - 16s 334ms/step - loss: 0.3896 - acc: 0.8883 - val_loss: 0.2505 - val_acc: 0.9383\n",
      "Epoch 13/100\n",
      "48/48 [==============================] - 17s 353ms/step - loss: 0.3543 - acc: 0.8867 - val_loss: 0.2733 - val_acc: 0.9012\n",
      "Epoch 14/100\n",
      "48/48 [==============================] - 16s 334ms/step - loss: 0.3662 - acc: 0.8990 - val_loss: 0.1747 - val_acc: 0.9198\n",
      "Epoch 15/100\n",
      "48/48 [==============================] - 17s 350ms/step - loss: 0.2828 - acc: 0.9212 - val_loss: 0.1939 - val_acc: 0.9259\n",
      "Epoch 16/100\n",
      "48/48 [==============================] - 17s 338ms/step - loss: 0.2605 - acc: 0.9179 - val_loss: 0.1599 - val_acc: 0.9568\n",
      "Epoch 17/100\n",
      "48/48 [==============================] - 17s 356ms/step - loss: 0.2690 - acc: 0.9278 - val_loss: 0.1625 - val_acc: 0.9383\n",
      "Epoch 18/100\n",
      "48/48 [==============================] - 16s 332ms/step - loss: 0.2487 - acc: 0.9278 - val_loss: 0.1479 - val_acc: 0.9321\n",
      "Epoch 19/100\n",
      "48/48 [==============================] - 17s 355ms/step - loss: 0.2473 - acc: 0.9376 - val_loss: 0.1484 - val_acc: 0.9630\n",
      "Epoch 20/100\n",
      "48/48 [==============================] - 16s 331ms/step - loss: 0.2175 - acc: 0.9433 - val_loss: 0.2113 - val_acc: 0.9198\n",
      "Epoch 21/100\n",
      "48/48 [==============================] - 17s 355ms/step - loss: 0.2012 - acc: 0.9327 - val_loss: 0.1121 - val_acc: 0.9753\n",
      "Epoch 22/100\n",
      "48/48 [==============================] - 17s 341ms/step - loss: 0.1815 - acc: 0.9532 - val_loss: 0.1044 - val_acc: 0.9691\n",
      "Epoch 23/100\n",
      "48/48 [==============================] - 17s 347ms/step - loss: 0.1672 - acc: 0.9516 - val_loss: 0.1069 - val_acc: 0.9691\n",
      "Epoch 24/100\n",
      "48/48 [==============================] - 17s 340ms/step - loss: 0.1759 - acc: 0.9524 - val_loss: 0.1140 - val_acc: 0.9568\n",
      "Epoch 25/100\n",
      "48/48 [==============================] - 17s 350ms/step - loss: 0.1711 - acc: 0.9507 - val_loss: 0.1045 - val_acc: 0.9877\n",
      "Epoch 26/100\n",
      "48/48 [==============================] - 17s 340ms/step - loss: 0.1638 - acc: 0.9557 - val_loss: 0.1224 - val_acc: 0.9630\n",
      "Epoch 27/100\n",
      "48/48 [==============================] - 17s 355ms/step - loss: 0.1724 - acc: 0.9499 - val_loss: 0.0944 - val_acc: 0.9877\n",
      "Epoch 28/100\n",
      "48/48 [==============================] - 17s 343ms/step - loss: 0.1337 - acc: 0.9557 - val_loss: 0.1172 - val_acc: 0.9568\n",
      "Epoch 29/100\n",
      "48/48 [==============================] - 17s 343ms/step - loss: 0.1314 - acc: 0.9672 - val_loss: 0.1216 - val_acc: 0.9568\n",
      "Epoch 30/100\n",
      "48/48 [==============================] - 17s 343ms/step - loss: 0.1162 - acc: 0.9713 - val_loss: 0.0702 - val_acc: 0.9753\n",
      "Epoch 31/100\n",
      "48/48 [==============================] - 17s 345ms/step - loss: 0.1131 - acc: 0.9680 - val_loss: 0.0967 - val_acc: 0.9630\n",
      "Epoch 32/100\n",
      "48/48 [==============================] - 17s 348ms/step - loss: 0.1149 - acc: 0.9696 - val_loss: 0.0856 - val_acc: 0.9753\n",
      "Epoch 33/100\n",
      "48/48 [==============================] - 17s 346ms/step - loss: 0.1073 - acc: 0.9672 - val_loss: 0.1122 - val_acc: 0.9568\n",
      "Epoch 34/100\n",
      "48/48 [==============================] - 17s 353ms/step - loss: 0.1083 - acc: 0.9680 - val_loss: 0.1061 - val_acc: 0.9630\n",
      "Epoch 35/100\n",
      "48/48 [==============================] - 17s 343ms/step - loss: 0.1052 - acc: 0.9729 - val_loss: 0.0837 - val_acc: 0.9753\n",
      "Epoch 36/100\n",
      "48/48 [==============================] - 17s 347ms/step - loss: 0.0918 - acc: 0.9745 - val_loss: 0.0852 - val_acc: 0.9691\n",
      "Epoch 37/100\n",
      "48/48 [==============================] - 17s 345ms/step - loss: 0.0940 - acc: 0.9713 - val_loss: 0.0813 - val_acc: 0.9691\n",
      "Epoch 38/100\n",
      "48/48 [==============================] - 17s 346ms/step - loss: 0.0988 - acc: 0.9721 - val_loss: 0.1365 - val_acc: 0.9321\n",
      "Epoch 39/100\n",
      "48/48 [==============================] - 17s 342ms/step - loss: 0.1060 - acc: 0.9696 - val_loss: 0.0659 - val_acc: 0.9815\n",
      "Epoch 40/100\n",
      "48/48 [==============================] - 17s 353ms/step - loss: 0.0919 - acc: 0.9754 - val_loss: 0.0962 - val_acc: 0.9568\n",
      "Epoch 41/100\n",
      "48/48 [==============================] - 17s 344ms/step - loss: 0.0729 - acc: 0.9828 - val_loss: 0.1321 - val_acc: 0.9259\n",
      "Epoch 42/100\n",
      "48/48 [==============================] - 17s 351ms/step - loss: 0.0929 - acc: 0.9704 - val_loss: 0.0799 - val_acc: 0.9506\n",
      "Epoch 43/100\n",
      "48/48 [==============================] - 17s 340ms/step - loss: 0.0933 - acc: 0.9721 - val_loss: 0.0472 - val_acc: 0.9938\n",
      "Epoch 44/100\n",
      "48/48 [==============================] - 17s 352ms/step - loss: 0.0787 - acc: 0.9828 - val_loss: 0.0484 - val_acc: 0.9877\n",
      "Epoch 45/100\n",
      "48/48 [==============================] - 17s 341ms/step - loss: 0.0868 - acc: 0.9811 - val_loss: 0.0571 - val_acc: 0.9815\n",
      "Epoch 46/100\n",
      "48/48 [==============================] - 17s 353ms/step - loss: 0.0621 - acc: 0.9795 - val_loss: 0.0550 - val_acc: 0.9753\n",
      "Epoch 47/100\n",
      "48/48 [==============================] - 16s 337ms/step - loss: 0.0682 - acc: 0.9844 - val_loss: 0.0460 - val_acc: 0.9753\n",
      "Epoch 48/100\n",
      "48/48 [==============================] - 17s 356ms/step - loss: 0.0570 - acc: 0.9844 - val_loss: 0.0390 - val_acc: 1.0000\n",
      "Epoch 49/100\n",
      "48/48 [==============================] - 17s 352ms/step - loss: 0.0867 - acc: 0.9811 - val_loss: 0.0684 - val_acc: 0.9815\n",
      "Epoch 50/100\n",
      "48/48 [==============================] - 17s 347ms/step - loss: 0.0810 - acc: 0.9787 - val_loss: 0.0538 - val_acc: 0.9815\n",
      "Epoch 51/100\n",
      "48/48 [==============================] - 17s 349ms/step - loss: 0.0612 - acc: 0.9860 - val_loss: 0.0590 - val_acc: 0.9815\n",
      "Epoch 52/100\n",
      "48/48 [==============================] - 17s 345ms/step - loss: 0.0625 - acc: 0.9811 - val_loss: 0.0698 - val_acc: 0.9815\n",
      "Epoch 53/100\n",
      "48/48 [==============================] - 17s 350ms/step - loss: 0.0699 - acc: 0.9811 - val_loss: 0.0561 - val_acc: 0.9877\n",
      "Epoch 54/100\n",
      "48/48 [==============================] - 17s 349ms/step - loss: 0.0713 - acc: 0.9778 - val_loss: 0.0465 - val_acc: 0.9877\n",
      "Epoch 55/100\n",
      "48/48 [==============================] - 17s 352ms/step - loss: 0.0729 - acc: 0.9795 - val_loss: 0.0803 - val_acc: 0.9691\n",
      "Epoch 56/100\n",
      "48/48 [==============================] - 17s 350ms/step - loss: 0.0630 - acc: 0.9745 - val_loss: 0.0981 - val_acc: 0.9568\n",
      "Epoch 57/100\n",
      "48/48 [==============================] - 18s 361ms/step - loss: 0.0712 - acc: 0.9811 - val_loss: 0.0842 - val_acc: 0.9753\n",
      "Epoch 58/100\n",
      "48/48 [==============================] - 16s 337ms/step - loss: 0.0735 - acc: 0.9778 - val_loss: 0.0453 - val_acc: 0.9877\n",
      "Epoch 59/100\n",
      "48/48 [==============================] - 17s 353ms/step - loss: 0.0570 - acc: 0.9844 - val_loss: 0.0521 - val_acc: 0.9753\n",
      "Epoch 60/100\n",
      "48/48 [==============================] - 17s 348ms/step - loss: 0.0478 - acc: 0.9836 - val_loss: 0.0380 - val_acc: 0.9877\n",
      "Epoch 61/100\n",
      "48/48 [==============================] - 19s 384ms/step - loss: 0.0410 - acc: 0.9893 - val_loss: 0.0532 - val_acc: 0.9815\n",
      "Epoch 62/100\n",
      "48/48 [==============================] - 19s 375ms/step - loss: 0.0508 - acc: 0.9869 - val_loss: 0.0618 - val_acc: 0.9815\n",
      "Epoch 63/100\n",
      "48/48 [==============================] - 18s 379ms/step - loss: 0.0525 - acc: 0.9844 - val_loss: 0.1141 - val_acc: 0.9444\n",
      "Epoch 64/100\n",
      "48/48 [==============================] - 16s 333ms/step - loss: 0.0563 - acc: 0.9901 - val_loss: 0.0527 - val_acc: 0.9753\n",
      "Epoch 65/100\n",
      "48/48 [==============================] - 18s 362ms/step - loss: 0.0407 - acc: 0.9877 - val_loss: 0.0718 - val_acc: 0.9815\n",
      "Epoch 66/100\n",
      "48/48 [==============================] - 17s 339ms/step - loss: 0.0537 - acc: 0.9869 - val_loss: 0.0300 - val_acc: 0.9938\n",
      "Epoch 67/100\n",
      "48/48 [==============================] - 19s 387ms/step - loss: 0.0509 - acc: 0.9869 - val_loss: 0.0723 - val_acc: 0.9815\n",
      "Epoch 68/100\n",
      "48/48 [==============================] - 18s 365ms/step - loss: 0.0545 - acc: 0.9860 - val_loss: 0.0353 - val_acc: 0.9938\n",
      "Epoch 69/100\n",
      "48/48 [==============================] - 16s 331ms/step - loss: 0.0500 - acc: 0.9885 - val_loss: 0.0593 - val_acc: 0.9815\n",
      "Epoch 70/100\n",
      "48/48 [==============================] - 18s 371ms/step - loss: 0.0608 - acc: 0.9811 - val_loss: 0.0369 - val_acc: 0.9815\n",
      "Epoch 71/100\n",
      "48/48 [==============================] - 16s 331ms/step - loss: 0.0475 - acc: 0.9901 - val_loss: 0.0573 - val_acc: 0.9815\n",
      "Epoch 72/100\n",
      "48/48 [==============================] - 18s 371ms/step - loss: 0.0470 - acc: 0.9852 - val_loss: 0.0476 - val_acc: 0.9753\n",
      "Epoch 73/100\n",
      "48/48 [==============================] - 17s 338ms/step - loss: 0.0385 - acc: 0.9869 - val_loss: 0.0259 - val_acc: 1.0000\n",
      "Epoch 74/100\n",
      "48/48 [==============================] - 18s 364ms/step - loss: 0.0482 - acc: 0.9885 - val_loss: 0.0736 - val_acc: 0.9753\n",
      "Epoch 75/100\n",
      "48/48 [==============================] - 17s 346ms/step - loss: 0.0364 - acc: 0.9934 - val_loss: 0.0782 - val_acc: 0.9815\n",
      "Epoch 76/100\n",
      "48/48 [==============================] - 17s 359ms/step - loss: 0.0449 - acc: 0.9869 - val_loss: 0.1467 - val_acc: 0.9321\n",
      "Epoch 77/100\n",
      "48/48 [==============================] - 17s 339ms/step - loss: 0.0408 - acc: 0.9893 - val_loss: 0.1241 - val_acc: 0.9630\n",
      "Epoch 78/100\n",
      "48/48 [==============================] - 18s 377ms/step - loss: 0.0478 - acc: 0.9828 - val_loss: 0.0971 - val_acc: 0.9568\n",
      "Epoch 79/100\n",
      "48/48 [==============================] - 17s 354ms/step - loss: 0.0451 - acc: 0.9877 - val_loss: 0.0496 - val_acc: 0.9815\n",
      "Epoch 80/100\n",
      "48/48 [==============================] - 17s 351ms/step - loss: 0.0509 - acc: 0.9869 - val_loss: 0.1018 - val_acc: 0.9691\n",
      "Epoch 81/100\n",
      "48/48 [==============================] - 17s 356ms/step - loss: 0.0425 - acc: 0.9860 - val_loss: 0.0609 - val_acc: 0.9815\n",
      "Epoch 82/100\n",
      "48/48 [==============================] - 17s 351ms/step - loss: 0.0603 - acc: 0.9828 - val_loss: 0.0594 - val_acc: 0.9691\n",
      "Epoch 83/100\n",
      "48/48 [==============================] - 17s 351ms/step - loss: 0.0512 - acc: 0.9869 - val_loss: 0.0751 - val_acc: 0.9691\n",
      "Epoch 84/100\n",
      "48/48 [==============================] - 17s 352ms/step - loss: 0.0412 - acc: 0.9893 - val_loss: 0.0679 - val_acc: 0.9815\n",
      "Epoch 85/100\n",
      "48/48 [==============================] - 17s 347ms/step - loss: 0.0355 - acc: 0.9877 - val_loss: 0.0413 - val_acc: 0.9815\n",
      "Epoch 86/100\n",
      "48/48 [==============================] - 17s 356ms/step - loss: 0.0384 - acc: 0.9901 - val_loss: 0.1043 - val_acc: 0.9753\n",
      "Epoch 87/100\n",
      "48/48 [==============================] - 18s 370ms/step - loss: 0.0417 - acc: 0.9926 - val_loss: 0.0563 - val_acc: 0.9815\n",
      "Epoch 88/100\n",
      "48/48 [==============================] - 16s 335ms/step - loss: 0.0601 - acc: 0.9844 - val_loss: 0.0373 - val_acc: 0.9877\n",
      "Epoch 89/100\n",
      "48/48 [==============================] - 18s 373ms/step - loss: 0.0313 - acc: 0.9910 - val_loss: 0.0213 - val_acc: 0.9938\n",
      "Epoch 90/100\n",
      "48/48 [==============================] - 16s 329ms/step - loss: 0.0176 - acc: 0.9959 - val_loss: 0.0331 - val_acc: 0.9815\n",
      "Epoch 91/100\n",
      "48/48 [==============================] - 18s 373ms/step - loss: 0.0324 - acc: 0.9893 - val_loss: 0.0529 - val_acc: 0.9815\n",
      "Epoch 92/100\n",
      "48/48 [==============================] - 16s 333ms/step - loss: 0.0452 - acc: 0.9852 - val_loss: 0.0477 - val_acc: 0.9815\n",
      "Epoch 93/100\n",
      "48/48 [==============================] - 18s 371ms/step - loss: 0.0344 - acc: 0.9893 - val_loss: 0.0381 - val_acc: 0.9877\n",
      "Epoch 94/100\n",
      "48/48 [==============================] - 18s 363ms/step - loss: 0.0368 - acc: 0.9877 - val_loss: 0.0341 - val_acc: 0.9815\n",
      "Epoch 95/100\n",
      "48/48 [==============================] - 17s 343ms/step - loss: 0.0244 - acc: 0.9926 - val_loss: 0.0310 - val_acc: 0.9877\n",
      "Epoch 96/100\n",
      "48/48 [==============================] - 17s 353ms/step - loss: 0.0213 - acc: 0.9934 - val_loss: 0.0407 - val_acc: 0.9877\n",
      "Epoch 97/100\n",
      "48/48 [==============================] - 17s 354ms/step - loss: 0.0382 - acc: 0.9893 - val_loss: 0.0397 - val_acc: 0.9877\n",
      "Epoch 98/100\n",
      "48/48 [==============================] - 17s 351ms/step - loss: 0.0345 - acc: 0.9918 - val_loss: 0.0289 - val_acc: 0.9877\n",
      "Epoch 99/100\n",
      "48/48 [==============================] - 17s 350ms/step - loss: 0.0271 - acc: 0.9918 - val_loss: 0.0788 - val_acc: 0.9877\n",
      "Epoch 100/100\n",
      "48/48 [==============================] - 17s 354ms/step - loss: 0.0378 - acc: 0.9877 - val_loss: 0.0533 - val_acc: 0.9753\n"
     ]
    }
   ],
   "source": [
    "## compile model\n",
    "translearn_vgg19.compile(loss='categorical_crossentropy',\n",
    "              optimizer=optimizers.Adam(learning_rate=0.002),\n",
    "              metrics=['acc'])\n",
    "\n",
    "# Callbacks\n",
    "es = EarlyStopping(monitor='val_accuracy', min_delta=0.01,patience= 5, verbose=1)\n",
    "mc = ModelCheckpoint(\"./vgg19_best_packages.h5\", monitor='val_accuracy', verbose=1, save_best_only=True)\n",
    "cb=[es, mc]\n",
    "\n",
    "## fit model\n",
    "model_vgg19 = translearn_vgg19.fit(train_generator_aug,\n",
    "                                   steps_per_epoch=steps_train,\n",
    "                                   epochs=100,\n",
    "                                   validation_data=val_generator,\n",
    "                                   validation_steps=steps_val,\n",
    "                                   verbose=1,\n",
    "                                   callbacks=cb)"
   ]
  },
  {
   "cell_type": "code",
   "execution_count": 10,
   "id": "6206acc1",
   "metadata": {
    "execution": {
     "iopub.execute_input": "2021-12-29T15:46:06.056260Z",
     "iopub.status.busy": "2021-12-29T15:46:06.055295Z",
     "iopub.status.idle": "2021-12-29T15:46:06.304615Z",
     "shell.execute_reply": "2021-12-29T15:46:06.305561Z",
     "shell.execute_reply.started": "2021-12-29T15:04:04.189912Z"
    },
    "papermill": {
     "duration": 1.999334,
     "end_time": "2021-12-29T15:46:06.305821",
     "exception": false,
     "start_time": "2021-12-29T15:46:04.306487",
     "status": "completed"
    },
    "tags": []
   },
   "outputs": [],
   "source": [
    "translearn_vgg19.save('packages_vgg19.h5')"
   ]
  },
  {
   "cell_type": "code",
   "execution_count": 11,
   "id": "ec8af8f7",
   "metadata": {
    "execution": {
     "iopub.execute_input": "2021-12-29T15:46:09.288883Z",
     "iopub.status.busy": "2021-12-29T15:46:09.288001Z",
     "iopub.status.idle": "2021-12-29T15:46:14.300594Z",
     "shell.execute_reply": "2021-12-29T15:46:14.301299Z",
     "shell.execute_reply.started": "2021-12-29T15:04:10.441209Z"
    },
    "papermill": {
     "duration": 6.359236,
     "end_time": "2021-12-29T15:46:14.301596",
     "exception": false,
     "start_time": "2021-12-29T15:46:07.942360",
     "status": "completed"
    },
    "tags": []
   },
   "outputs": [
    {
     "name": "stderr",
     "output_type": "stream",
     "text": [
      "2021-12-29 15:46:10.240794: W tensorflow/python/util/util.cc:348] Sets are not currently considered sequences, but this may change in the future, so consider avoiding using them.\n",
      "2021-12-29 15:46:12.227717: I tensorflow/stream_executor/cuda/cuda_gpu_executor.cc:937] successful NUMA node read from SysFS had negative value (-1), but there must be at least one NUMA node, so returning NUMA node zero\n",
      "2021-12-29 15:46:12.228118: I tensorflow/core/grappler/devices.cc:66] Number of eligible GPUs (core count >= 8, compute capability >= 0.0): 1\n",
      "2021-12-29 15:46:12.228250: I tensorflow/core/grappler/clusters/single_machine.cc:357] Starting new session\n",
      "2021-12-29 15:46:12.228719: I tensorflow/stream_executor/cuda/cuda_gpu_executor.cc:937] successful NUMA node read from SysFS had negative value (-1), but there must be at least one NUMA node, so returning NUMA node zero\n",
      "2021-12-29 15:46:12.229121: I tensorflow/stream_executor/cuda/cuda_gpu_executor.cc:937] successful NUMA node read from SysFS had negative value (-1), but there must be at least one NUMA node, so returning NUMA node zero\n",
      "2021-12-29 15:46:12.229462: I tensorflow/stream_executor/cuda/cuda_gpu_executor.cc:937] successful NUMA node read from SysFS had negative value (-1), but there must be at least one NUMA node, so returning NUMA node zero\n",
      "2021-12-29 15:46:12.229866: I tensorflow/stream_executor/cuda/cuda_gpu_executor.cc:937] successful NUMA node read from SysFS had negative value (-1), but there must be at least one NUMA node, so returning NUMA node zero\n",
      "2021-12-29 15:46:12.230243: I tensorflow/stream_executor/cuda/cuda_gpu_executor.cc:937] successful NUMA node read from SysFS had negative value (-1), but there must be at least one NUMA node, so returning NUMA node zero\n",
      "2021-12-29 15:46:12.230515: I tensorflow/core/common_runtime/gpu/gpu_device.cc:1510] Created device /job:localhost/replica:0/task:0/device:GPU:0 with 15403 MB memory:  -> device: 0, name: Tesla P100-PCIE-16GB, pci bus id: 0000:00:04.0, compute capability: 6.0\n",
      "2021-12-29 15:46:12.234061: I tensorflow/core/grappler/optimizers/meta_optimizer.cc:1137] Optimization results for grappler item: graph_to_optimize\n",
      "  function_optimizer: function_optimizer did nothing. time = 0.008ms.\n",
      "  function_optimizer: function_optimizer did nothing. time = 0.001ms.\n",
      "\n",
      "2021-12-29 15:46:13.605044: W tensorflow/compiler/mlir/lite/python/tf_tfl_flatbuffer_helpers.cc:351] Ignored output_format.\n",
      "2021-12-29 15:46:13.605111: W tensorflow/compiler/mlir/lite/python/tf_tfl_flatbuffer_helpers.cc:354] Ignored drop_control_dependency.\n",
      "2021-12-29 15:46:13.745408: I tensorflow/compiler/mlir/tensorflow/utils/dump_mlir_util.cc:210] disabling MLIR crash reproducer, set env var `MLIR_CRASH_REPRODUCER_DIRECTORY` to enable.\n"
     ]
    }
   ],
   "source": [
    "# Convert the model to tflite\n",
    "converter = tf.lite.TFLiteConverter.from_keras_model(translearn_vgg19)\n",
    "tflite_model = converter.convert()\n",
    "\n",
    "# Save the model.\n",
    "with open('packages_vgg19.tflite', 'wb') as f:\n",
    "    f.write(tflite_model)"
   ]
  },
  {
   "cell_type": "code",
   "execution_count": 12,
   "id": "1721dfd1",
   "metadata": {
    "execution": {
     "iopub.execute_input": "2021-12-29T15:46:17.017484Z",
     "iopub.status.busy": "2021-12-29T15:46:17.016746Z",
     "iopub.status.idle": "2021-12-29T15:46:17.386698Z",
     "shell.execute_reply": "2021-12-29T15:46:17.387226Z",
     "shell.execute_reply.started": "2021-12-29T14:42:31.975458Z"
    },
    "papermill": {
     "duration": 1.704531,
     "end_time": "2021-12-29T15:46:17.387373",
     "exception": false,
     "start_time": "2021-12-29T15:46:15.682842",
     "status": "completed"
    },
    "tags": []
   },
   "outputs": [
    {
     "data": {
      "image/png": "[encoded data removed]",
      "text/plain": [
       "<Figure size 432x288 with 1 Axes>"
      ]
     },
     "metadata": {
      "needs_background": "light"
     },
     "output_type": "display_data"
    },
    {
     "data": {
      "image/png": "[encoded data removed]",
      "text/plain": [
       "<Figure size 432x288 with 1 Axes>"
      ]
     },
     "metadata": {
      "needs_background": "light"
     },
     "output_type": "display_data"
    }
   ],
   "source": [
    "acc = model_vgg19.history['acc']\n",
    "val_acc = model_vgg19.history['val_acc']\n",
    "loss = model_vgg19.history['loss']\n",
    "val_loss = model_vgg19.history['val_loss']\n",
    "\n",
    "epochs = range(len(acc))\n",
    "plt.plot(epochs, acc, 'b', label='Training acc')\n",
    "plt.plot(epochs, val_acc, 'r', label='Validation acc')\n",
    "plt.title('Training and validation accuracy')\n",
    "plt.legend()\n",
    "plt.figure()\n",
    "\n",
    "plt.plot(epochs, loss, 'b', label='Training loss')\n",
    "plt.plot(epochs, val_loss, 'r', label='Validation loss')\n",
    "plt.title('Training and validation loss')\n",
    "plt.legend()\n",
    "plt.show()"
   ]
  },
  {
   "cell_type": "markdown",
   "id": "85ac1cb3",
   "metadata": {
    "papermill": {
     "duration": 1.378931,
     "end_time": "2021-12-29T15:46:20.389878",
     "exception": false,
     "start_time": "2021-12-29T15:46:19.010947",
     "status": "completed"
    },
    "tags": []
   },
   "source": [
    "## Predict"
   ]
  },
  {
   "cell_type": "code",
   "execution_count": 13,
   "id": "caccb120",
   "metadata": {
    "execution": {
     "iopub.execute_input": "2021-12-29T15:46:23.127936Z",
     "iopub.status.busy": "2021-12-29T15:46:23.127387Z",
     "iopub.status.idle": "2021-12-29T15:46:26.101844Z",
     "shell.execute_reply": "2021-12-29T15:46:26.102270Z",
     "shell.execute_reply.started": "2021-12-29T14:42:32.360337Z"
    },
    "papermill": {
     "duration": 4.367994,
     "end_time": "2021-12-29T15:46:26.102432",
     "exception": false,
     "start_time": "2021-12-29T15:46:21.734438",
     "status": "completed"
    },
    "tags": []
   },
   "outputs": [
    {
     "name": "stdout",
     "output_type": "stream",
     "text": [
      "378/378 - 3s\n"
     ]
    }
   ],
   "source": [
    "pack_pred= translearn_vgg19.predict(test_generator, steps = nb_samples_test, verbose=2)\n",
    "pack_pred = pack_pred.argmax(axis=1)"
   ]
  },
  {
   "cell_type": "markdown",
   "id": "5a6984ec",
   "metadata": {
    "papermill": {
     "duration": 1.634342,
     "end_time": "2021-12-29T15:46:29.062986",
     "exception": false,
     "start_time": "2021-12-29T15:46:27.428644",
     "status": "completed"
    },
    "tags": []
   },
   "source": [
    "### Confusion Matrix"
   ]
  },
  {
   "cell_type": "code",
   "execution_count": 14,
   "id": "0ff2efdd",
   "metadata": {
    "execution": {
     "iopub.execute_input": "2021-12-29T15:46:31.721250Z",
     "iopub.status.busy": "2021-12-29T15:46:31.719648Z",
     "iopub.status.idle": "2021-12-29T15:46:31.721806Z",
     "shell.execute_reply": "2021-12-29T15:46:31.722233Z",
     "shell.execute_reply.started": "2021-12-29T14:42:35.277439Z"
    },
    "papermill": {
     "duration": 1.332598,
     "end_time": "2021-12-29T15:46:31.722373",
     "exception": false,
     "start_time": "2021-12-29T15:46:30.389775",
     "status": "completed"
    },
    "tags": []
   },
   "outputs": [],
   "source": [
    "# cm = confusion_matrix(pack_pred, true_classes)\n",
    "# f, ax= plt.subplots(1,1,figsize=(15,15))\n",
    "# sns.heatmap(cm, annot=True, fmt='g', ax=ax)\n",
    "\n",
    "# # labels, title and ticks\n",
    "# ax.set_xlabel('Predicted labels')\n",
    "# ax.set_ylabel('True labels') \n",
    "# ax.set_title('Confusion Matrix')\n",
    "# ax.xaxis.set_ticklabels(classes) \n",
    "# ax.yaxis.set_ticklabels(classes)"
   ]
  },
  {
   "cell_type": "markdown",
   "id": "db46b0e0",
   "metadata": {
    "papermill": {
     "duration": 1.335643,
     "end_time": "2021-12-29T15:46:34.391499",
     "exception": false,
     "start_time": "2021-12-29T15:46:33.055856",
     "status": "completed"
    },
    "tags": []
   },
   "source": [
    "### Classification Report"
   ]
  },
  {
   "cell_type": "code",
   "execution_count": 15,
   "id": "3a1709a9",
   "metadata": {
    "execution": {
     "iopub.execute_input": "2021-12-29T15:46:37.299629Z",
     "iopub.status.busy": "2021-12-29T15:46:37.298734Z",
     "iopub.status.idle": "2021-12-29T15:46:37.310404Z",
     "shell.execute_reply": "2021-12-29T15:46:37.311159Z",
     "shell.execute_reply.started": "2021-12-29T14:42:35.286757Z"
    },
    "papermill": {
     "duration": 1.525183,
     "end_time": "2021-12-29T15:46:37.311380",
     "exception": false,
     "start_time": "2021-12-29T15:46:35.786197",
     "status": "completed"
    },
    "tags": []
   },
   "outputs": [
    {
     "name": "stdout",
     "output_type": "stream",
     "text": [
      "                                        precision    recall  f1-score   support\n",
      "\n",
      "                       Arla-Sour-Cream       1.00      1.00      1.00        13\n",
      "          Arla-Lactose-Medium-Fat-Milk       1.00      0.85      0.92        13\n",
      "                  Alpro-Shelf-Soy-Milk       0.92      1.00      0.96        12\n",
      "                 Tropicana-Apple-Juice       0.83      0.91      0.87        11\n",
      "                  Arla-Natural-Yoghurt       1.00      1.00      1.00        13\n",
      "     Arla-Natural-Mild-Low-Fat-Yoghurt       1.00      0.82      0.90        11\n",
      "                    Bravo-Orange-Juice       1.00      0.92      0.96        12\n",
      "                God-Morgon-Apple-Juice       1.00      1.00      1.00        15\n",
      "              Alpro-Blueberry-Soyghurt       1.00      0.92      0.96        13\n",
      "       God-Morgon-Red-Grapefruit-Juice       1.00      1.00      1.00        11\n",
      "                Oatly-Natural-Oatghurt       1.00      1.00      1.00        19\n",
      "                Alpro-Vanilla-Soyghurt       0.82      1.00      0.90         9\n",
      "                Tropicana-Juice-Smooth       1.00      1.00      1.00        11\n",
      "                     Bravo-Apple-Juice       0.93      1.00      0.97        14\n",
      "             Arla-Mild-Vanilla-Yoghurt       1.00      1.00      1.00        11\n",
      "            Tropicana-Mandarin-Morning       1.00      1.00      1.00        15\n",
      "                 Yoggi-Vanilla-Yoghurt       1.00      1.00      1.00        16\n",
      "              Yoggi-Strawberry-Yoghurt       0.83      1.00      0.91        10\n",
      "       Arla-Ecological-Medium-Fat-Milk       0.90      1.00      0.95         9\n",
      "                 Valio-Vanilla-Yoghurt       1.00      1.00      1.00        10\n",
      "                  Arla-Medium-Fat-Milk       1.00      0.80      0.89        10\n",
      "     Garant-Ecological-Medium-Fat-Milk       0.91      1.00      0.95        10\n",
      "                    Arla-Standard-Milk       1.00      1.00      1.00        15\n",
      "                  Alpro-Fresh-Soy-Milk       1.00      0.87      0.93        15\n",
      "               God-Morgon-Orange-Juice       0.93      1.00      0.96        13\n",
      "            Arla-Ecological-Sour-Cream       1.00      1.00      1.00        10\n",
      "God-Morgon-Orange-Red-Grapefruit-Juice       1.00      0.90      0.95        10\n",
      "                        Arla-Sour-Milk       1.00      1.00      1.00         8\n",
      "           Tropicana-Golden-Grapefruit       1.00      0.87      0.93        15\n",
      "                        Oatly-Oat-Milk       0.94      1.00      0.97        15\n",
      "       Garant-Ecological-Standard-Milk       0.73      0.89      0.80         9\n",
      "\n",
      "                              accuracy                           0.96       378\n",
      "                             macro avg       0.96      0.96      0.96       378\n",
      "                          weighted avg       0.97      0.96      0.96       378\n",
      "\n"
     ]
    }
   ],
   "source": [
    "print(classification_report(true_classes, pack_pred, target_names=target_names))"
   ]
  },
  {
   "cell_type": "code",
   "execution_count": null,
   "id": "c8f379eb",
   "metadata": {
    "papermill": {
     "duration": 1.653749,
     "end_time": "2021-12-29T15:46:40.874834",
     "exception": false,
     "start_time": "2021-12-29T15:46:39.221085",
     "status": "completed"
    },
    "tags": []
   },
   "outputs": [],
   "source": []
  }
 ],
 "metadata": {
  "kernelspec": {
   "display_name": "Python 3",
   "language": "python",
   "name": "python3"
  },
  "language_info": {
   "codemirror_mode": {
    "name": "ipython",
    "version": 3
   },
   "file_extension": ".py",
   "mimetype": "text/x-python",
   "name": "python",
   "nbconvert_exporter": "python",
   "pygments_lexer": "ipython3",
   "version": "3.7.12"
  },
  "papermill": {
   "default_parameters": {},
   "duration": 1799.341682,
   "end_time": "2021-12-29T15:46:45.757655",
   "environment_variables": {},
   "exception": null,
   "input_path": "__notebook__.ipynb",
   "output_path": "__notebook__.ipynb",
   "parameters": {},
   "start_time": "2021-12-29T15:16:46.415973",
   "version": "2.3.3"
  }
 },
 "nbformat": 4,
 "nbformat_minor": 5
}
