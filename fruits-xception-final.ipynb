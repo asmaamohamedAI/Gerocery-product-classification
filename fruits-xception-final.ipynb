{
 "cells": [
  {
   "cell_type": "code",
   "execution_count": 1,
   "id": "91c77b05",
   "metadata": {
    "_cell_guid": "b1076dfc-b9ad-4769-8c92-a6c4dae69d19",
    "_uuid": "8f2839f25d086af736a60e9eeb907d3b93b6e0e5",
    "execution": {
     "iopub.execute_input": "2022-01-05T13:57:43.982868Z",
     "iopub.status.busy": "2022-01-05T13:57:43.981354Z",
     "iopub.status.idle": "2022-01-05T13:57:49.877255Z",
     "shell.execute_reply": "2022-01-05T13:57:49.876499Z",
     "shell.execute_reply.started": "2022-01-05T13:37:20.646071Z"
    },
    "papermill": {
     "duration": 5.91481,
     "end_time": "2022-01-05T13:57:49.877419",
     "exception": false,
     "start_time": "2022-01-05T13:57:43.962609",
     "status": "completed"
    },
    "tags": []
   },
   "outputs": [],
   "source": [
    "from __future__ import absolute_import, division, print_function\n",
    "import numpy as np\n",
    "import collections\n",
    "import math\n",
    "import os\n",
    "import random\n",
    "from six.moves import urllib\n",
    "import io\n",
    "import shutil\n",
    "import matplotlib.pyplot as plt\n",
    "import seaborn as sns\n",
    "from IPython.display import clear_output, Image, display, HTML\n",
    "import tensorflow as tf\n",
    "import tensorflow_hub as hub\n",
    "import sklearn.metrics as sk_metrics\n",
    "import time\n",
    "from tensorflow.python.keras.preprocessing.image import ImageDataGenerator\n",
    "from tensorflow.keras import optimizers, layers, models\n",
    "from tensorflow.keras.preprocessing import image\n",
    "from tensorflow.keras import regularizers\n",
    "from tensorflow.keras.models import Model, Sequential\n",
    "from tensorflow.keras.layers import Dense, GlobalAveragePooling2D, BatchNormalization, Dropout, Flatten\n",
    "from tensorflow.keras import backend as K\n",
    "from keras.utils.vis_utils import plot_model\n",
    "from keras.callbacks import EarlyStopping, ModelCheckpoint\n",
    "from sklearn.metrics import confusion_matrix, classification_report\n",
    "from keras.applications import xception"
   ]
  },
  {
   "cell_type": "code",
   "execution_count": 2,
   "id": "053a0fb8",
   "metadata": {
    "execution": {
     "iopub.execute_input": "2022-01-05T13:57:49.911073Z",
     "iopub.status.busy": "2022-01-05T13:57:49.909421Z",
     "iopub.status.idle": "2022-01-05T13:57:49.911776Z",
     "shell.execute_reply": "2022-01-05T13:57:49.912265Z",
     "shell.execute_reply.started": "2022-01-05T13:37:20.660498Z"
    },
    "papermill": {
     "duration": 0.020597,
     "end_time": "2022-01-05T13:57:49.912411",
     "exception": false,
     "start_time": "2022-01-05T13:57:49.891814",
     "status": "completed"
    },
    "tags": []
   },
   "outputs": [],
   "source": [
    "## set train, validation, and test paths\n",
    "train_path = '../input/datasetfinal/dataset70-10-20/train/Fruit'\n",
    "validation_path = '../input/datasetfinal/dataset70-10-20/val/Fruit'\n",
    "test_path = '../input/datasetfinal/dataset70-10-20/test/Fruit'"
   ]
  },
  {
   "cell_type": "code",
   "execution_count": 3,
   "id": "6ed81408",
   "metadata": {
    "execution": {
     "iopub.execute_input": "2022-01-05T13:57:49.944398Z",
     "iopub.status.busy": "2022-01-05T13:57:49.943668Z",
     "iopub.status.idle": "2022-01-05T13:57:49.999953Z",
     "shell.execute_reply": "2022-01-05T13:57:50.000678Z",
     "shell.execute_reply.started": "2022-01-05T13:37:20.667291Z"
    },
    "papermill": {
     "duration": 0.074951,
     "end_time": "2022-01-05T13:57:50.000822",
     "exception": false,
     "start_time": "2022-01-05T13:57:49.925871",
     "status": "completed"
    },
    "tags": []
   },
   "outputs": [
    {
     "name": "stdout",
     "output_type": "stream",
     "text": [
      "28\n"
     ]
    }
   ],
   "source": [
    "fruits_classes=[]\n",
    "for root, subdirectories, files in os.walk(train_path):\n",
    "    for subdirectory in subdirectories:\n",
    "        fruits_classes.append(subdirectory)\n",
    "print(len(fruits_classes))"
   ]
  },
  {
   "cell_type": "code",
   "execution_count": 4,
   "id": "4e8a0ccf",
   "metadata": {
    "execution": {
     "iopub.execute_input": "2022-01-05T13:57:50.035330Z",
     "iopub.status.busy": "2022-01-05T13:57:50.034463Z",
     "iopub.status.idle": "2022-01-05T13:57:50.346745Z",
     "shell.execute_reply": "2022-01-05T13:57:50.345940Z",
     "shell.execute_reply.started": "2022-01-05T13:37:20.691940Z"
    },
    "papermill": {
     "duration": 0.331343,
     "end_time": "2022-01-05T13:57:50.346877",
     "exception": false,
     "start_time": "2022-01-05T13:57:50.015534",
     "status": "completed"
    },
    "tags": []
   },
   "outputs": [
    {
     "name": "stdout",
     "output_type": "stream",
     "text": [
      "Found 1649 images belonging to 28 classes.\n",
      "Found 224 images belonging to 28 classes.\n",
      "Found 497 images belonging to 28 classes.\n"
     ]
    }
   ],
   "source": [
    "train_batches  = ImageDataGenerator().flow_from_directory(\n",
    "    train_path, target_size=(224, 224), classes = fruits_classes, batch_size = 50)\n",
    "\n",
    "validation_batches  = ImageDataGenerator().flow_from_directory(\n",
    "    validation_path, target_size=(224, 224), classes = fruits_classes, batch_size = 10)\n",
    "\n",
    "test_batches  = ImageDataGenerator().flow_from_directory(\n",
    "    test_path, target_size=(224, 224), classes = fruits_classes, batch_size = 10)"
   ]
  },
  {
   "cell_type": "markdown",
   "id": "f28fdf24",
   "metadata": {
    "papermill": {
     "duration": 0.014332,
     "end_time": "2022-01-05T13:57:50.375917",
     "exception": false,
     "start_time": "2022-01-05T13:57:50.361585",
     "status": "completed"
    },
    "tags": []
   },
   "source": [
    "## Data Augmentation"
   ]
  },
  {
   "cell_type": "code",
   "execution_count": 5,
   "id": "290fb43f",
   "metadata": {
    "execution": {
     "iopub.execute_input": "2022-01-05T13:57:50.408253Z",
     "iopub.status.busy": "2022-01-05T13:57:50.407425Z",
     "iopub.status.idle": "2022-01-05T13:57:50.726503Z",
     "shell.execute_reply": "2022-01-05T13:57:50.726893Z",
     "shell.execute_reply.started": "2022-01-05T13:37:21.009527Z"
    },
    "papermill": {
     "duration": 0.336514,
     "end_time": "2022-01-05T13:57:50.727041",
     "exception": false,
     "start_time": "2022-01-05T13:57:50.390527",
     "status": "completed"
    },
    "tags": []
   },
   "outputs": [
    {
     "name": "stdout",
     "output_type": "stream",
     "text": [
      "Found 1649 images belonging to 28 classes.\n",
      "Found 497 images belonging to 28 classes.\n",
      "Found 224 images belonging to 28 classes.\n"
     ]
    }
   ],
   "source": [
    "## Augmentation datagenerator\n",
    "train_datagen_aug = ImageDataGenerator(\n",
    "        rotation_range=40,\n",
    "        width_shift_range=0.2,\n",
    "        height_shift_range=0.2,\n",
    "        fill_mode='nearest',\n",
    "        rescale=1./255,\n",
    "        shear_range=0.2,\n",
    "        zoom_range=0.2,\n",
    "        horizontal_flip=True)\n",
    "\n",
    "## train generator\n",
    "train_generator_aug = train_datagen_aug.flow_from_directory(\n",
    "        train_path,\n",
    "        target_size=(224, 224),\n",
    "        batch_size=25,\n",
    "        class_mode='categorical')\n",
    "\n",
    "## test generator, required for prediction\n",
    "test_datagen = ImageDataGenerator(rescale=1./255)\n",
    "\n",
    "test_generator = test_datagen.flow_from_directory(\n",
    "        test_path,\n",
    "        target_size=(224, 224),\n",
    "        batch_size=1,\n",
    "        shuffle = False,\n",
    "        class_mode='categorical')\n",
    "\n",
    "## validation generator\n",
    "val_generator = test_datagen.flow_from_directory(\n",
    "        validation_path,\n",
    "        target_size=(224, 224),\n",
    "        batch_size=10,\n",
    "        class_mode='categorical')"
   ]
  },
  {
   "cell_type": "code",
   "execution_count": 6,
   "id": "ef541969",
   "metadata": {
    "execution": {
     "iopub.execute_input": "2022-01-05T13:57:50.762466Z",
     "iopub.status.busy": "2022-01-05T13:57:50.761620Z",
     "iopub.status.idle": "2022-01-05T13:57:50.763548Z",
     "shell.execute_reply": "2022-01-05T13:57:50.763970Z",
     "shell.execute_reply.started": "2022-01-05T13:37:21.331298Z"
    },
    "papermill": {
     "duration": 0.022224,
     "end_time": "2022-01-05T13:57:50.764120",
     "exception": false,
     "start_time": "2022-01-05T13:57:50.741896",
     "status": "completed"
    },
    "tags": []
   },
   "outputs": [],
   "source": [
    "## set steps per epoch for train\n",
    "train_filenames = train_generator_aug.filenames\n",
    "steps_train = len(train_filenames)/train_generator_aug.batch_size\n",
    "\n",
    "## set steps per epoch for validation\n",
    "val_filenames = val_generator.filenames\n",
    "steps_val = len(val_filenames)/val_generator.batch_size\n",
    "\n",
    "## test\n",
    "filenames_test = test_generator.filenames\n",
    "nb_samples_test= len(filenames_test)\n",
    "true_classes = test_generator.classes\n",
    "target_names = fruits_classes"
   ]
  },
  {
   "cell_type": "markdown",
   "id": "87a23b5d",
   "metadata": {
    "papermill": {
     "duration": 0.014394,
     "end_time": "2022-01-05T13:57:50.793709",
     "exception": false,
     "start_time": "2022-01-05T13:57:50.779315",
     "status": "completed"
    },
    "tags": []
   },
   "source": [
    "# Xception"
   ]
  },
  {
   "cell_type": "code",
   "execution_count": 7,
   "id": "66b4d42c",
   "metadata": {
    "execution": {
     "iopub.execute_input": "2022-01-05T13:57:50.829737Z",
     "iopub.status.busy": "2022-01-05T13:57:50.829119Z",
     "iopub.status.idle": "2022-01-05T13:57:55.264550Z",
     "shell.execute_reply": "2022-01-05T13:57:55.262981Z",
     "shell.execute_reply.started": "2022-01-05T13:37:21.339604Z"
    },
    "papermill": {
     "duration": 4.45663,
     "end_time": "2022-01-05T13:57:55.264726",
     "exception": false,
     "start_time": "2022-01-05T13:57:50.808096",
     "status": "completed"
    },
    "tags": []
   },
   "outputs": [
    {
     "name": "stderr",
     "output_type": "stream",
     "text": [
      "2022-01-05 13:57:50.910484: I tensorflow/stream_executor/cuda/cuda_gpu_executor.cc:937] successful NUMA node read from SysFS had negative value (-1), but there must be at least one NUMA node, so returning NUMA node zero\n",
      "2022-01-05 13:57:51.002868: I tensorflow/stream_executor/cuda/cuda_gpu_executor.cc:937] successful NUMA node read from SysFS had negative value (-1), but there must be at least one NUMA node, so returning NUMA node zero\n",
      "2022-01-05 13:57:51.003612: I tensorflow/stream_executor/cuda/cuda_gpu_executor.cc:937] successful NUMA node read from SysFS had negative value (-1), but there must be at least one NUMA node, so returning NUMA node zero\n",
      "2022-01-05 13:57:51.004819: I tensorflow/core/platform/cpu_feature_guard.cc:142] This TensorFlow binary is optimized with oneAPI Deep Neural Network Library (oneDNN) to use the following CPU instructions in performance-critical operations:  AVX2 AVX512F FMA\n",
      "To enable them in other operations, rebuild TensorFlow with the appropriate compiler flags.\n",
      "2022-01-05 13:57:51.006118: I tensorflow/stream_executor/cuda/cuda_gpu_executor.cc:937] successful NUMA node read from SysFS had negative value (-1), but there must be at least one NUMA node, so returning NUMA node zero\n",
      "2022-01-05 13:57:51.006787: I tensorflow/stream_executor/cuda/cuda_gpu_executor.cc:937] successful NUMA node read from SysFS had negative value (-1), but there must be at least one NUMA node, so returning NUMA node zero\n",
      "2022-01-05 13:57:51.007434: I tensorflow/stream_executor/cuda/cuda_gpu_executor.cc:937] successful NUMA node read from SysFS had negative value (-1), but there must be at least one NUMA node, so returning NUMA node zero\n",
      "2022-01-05 13:57:52.819273: I tensorflow/stream_executor/cuda/cuda_gpu_executor.cc:937] successful NUMA node read from SysFS had negative value (-1), but there must be at least one NUMA node, so returning NUMA node zero\n",
      "2022-01-05 13:57:52.820036: I tensorflow/stream_executor/cuda/cuda_gpu_executor.cc:937] successful NUMA node read from SysFS had negative value (-1), but there must be at least one NUMA node, so returning NUMA node zero\n",
      "2022-01-05 13:57:52.820732: I tensorflow/stream_executor/cuda/cuda_gpu_executor.cc:937] successful NUMA node read from SysFS had negative value (-1), but there must be at least one NUMA node, so returning NUMA node zero\n",
      "2022-01-05 13:57:52.821432: I tensorflow/core/common_runtime/gpu/gpu_device.cc:1510] Created device /job:localhost/replica:0/task:0/device:GPU:0 with 15403 MB memory:  -> device: 0, name: Tesla P100-PCIE-16GB, pci bus id: 0000:00:04.0, compute capability: 6.0\n"
     ]
    },
    {
     "name": "stdout",
     "output_type": "stream",
     "text": [
      "Downloading data from https://storage.googleapis.com/tensorflow/keras-applications/xception/xception_weights_tf_dim_ordering_tf_kernels_notop.h5\n",
      "83689472/83683744 [==============================] - 1s 0us/step\n",
      "83697664/83683744 [==============================] - 1s 0us/step\n",
      "Model: \"xception\"\n",
      "__________________________________________________________________________________________________\n",
      "Layer (type)                    Output Shape         Param #     Connected to                     \n",
      "==================================================================================================\n",
      "input_1 (InputLayer)            [(None, 224, 224, 3) 0                                            \n",
      "__________________________________________________________________________________________________\n",
      "block1_conv1 (Conv2D)           (None, 111, 111, 32) 864         input_1[0][0]                    \n",
      "__________________________________________________________________________________________________\n",
      "block1_conv1_bn (BatchNormaliza (None, 111, 111, 32) 128         block1_conv1[0][0]               \n",
      "__________________________________________________________________________________________________\n",
      "block1_conv1_act (Activation)   (None, 111, 111, 32) 0           block1_conv1_bn[0][0]            \n",
      "__________________________________________________________________________________________________\n",
      "block1_conv2 (Conv2D)           (None, 109, 109, 64) 18432       block1_conv1_act[0][0]           \n",
      "__________________________________________________________________________________________________\n",
      "block1_conv2_bn (BatchNormaliza (None, 109, 109, 64) 256         block1_conv2[0][0]               \n",
      "__________________________________________________________________________________________________\n",
      "block1_conv2_act (Activation)   (None, 109, 109, 64) 0           block1_conv2_bn[0][0]            \n",
      "__________________________________________________________________________________________________\n",
      "block2_sepconv1 (SeparableConv2 (None, 109, 109, 128 8768        block1_conv2_act[0][0]           \n",
      "__________________________________________________________________________________________________\n",
      "block2_sepconv1_bn (BatchNormal (None, 109, 109, 128 512         block2_sepconv1[0][0]            \n",
      "__________________________________________________________________________________________________\n",
      "block2_sepconv2_act (Activation (None, 109, 109, 128 0           block2_sepconv1_bn[0][0]         \n",
      "__________________________________________________________________________________________________\n",
      "block2_sepconv2 (SeparableConv2 (None, 109, 109, 128 17536       block2_sepconv2_act[0][0]        \n",
      "__________________________________________________________________________________________________\n",
      "block2_sepconv2_bn (BatchNormal (None, 109, 109, 128 512         block2_sepconv2[0][0]            \n",
      "__________________________________________________________________________________________________\n",
      "conv2d (Conv2D)                 (None, 55, 55, 128)  8192        block1_conv2_act[0][0]           \n",
      "__________________________________________________________________________________________________\n",
      "block2_pool (MaxPooling2D)      (None, 55, 55, 128)  0           block2_sepconv2_bn[0][0]         \n",
      "__________________________________________________________________________________________________\n",
      "batch_normalization (BatchNorma (None, 55, 55, 128)  512         conv2d[0][0]                     \n",
      "__________________________________________________________________________________________________\n",
      "add (Add)                       (None, 55, 55, 128)  0           block2_pool[0][0]                \n",
      "                                                                 batch_normalization[0][0]        \n",
      "__________________________________________________________________________________________________\n",
      "block3_sepconv1_act (Activation (None, 55, 55, 128)  0           add[0][0]                        \n",
      "__________________________________________________________________________________________________\n",
      "block3_sepconv1 (SeparableConv2 (None, 55, 55, 256)  33920       block3_sepconv1_act[0][0]        \n",
      "__________________________________________________________________________________________________\n",
      "block3_sepconv1_bn (BatchNormal (None, 55, 55, 256)  1024        block3_sepconv1[0][0]            \n",
      "__________________________________________________________________________________________________\n",
      "block3_sepconv2_act (Activation (None, 55, 55, 256)  0           block3_sepconv1_bn[0][0]         \n",
      "__________________________________________________________________________________________________\n",
      "block3_sepconv2 (SeparableConv2 (None, 55, 55, 256)  67840       block3_sepconv2_act[0][0]        \n",
      "__________________________________________________________________________________________________\n",
      "block3_sepconv2_bn (BatchNormal (None, 55, 55, 256)  1024        block3_sepconv2[0][0]            \n",
      "__________________________________________________________________________________________________\n",
      "conv2d_1 (Conv2D)               (None, 28, 28, 256)  32768       add[0][0]                        \n",
      "__________________________________________________________________________________________________\n",
      "block3_pool (MaxPooling2D)      (None, 28, 28, 256)  0           block3_sepconv2_bn[0][0]         \n",
      "__________________________________________________________________________________________________\n",
      "batch_normalization_1 (BatchNor (None, 28, 28, 256)  1024        conv2d_1[0][0]                   \n",
      "__________________________________________________________________________________________________\n",
      "add_1 (Add)                     (None, 28, 28, 256)  0           block3_pool[0][0]                \n",
      "                                                                 batch_normalization_1[0][0]      \n",
      "__________________________________________________________________________________________________\n",
      "block4_sepconv1_act (Activation (None, 28, 28, 256)  0           add_1[0][0]                      \n",
      "__________________________________________________________________________________________________\n",
      "block4_sepconv1 (SeparableConv2 (None, 28, 28, 728)  188672      block4_sepconv1_act[0][0]        \n",
      "__________________________________________________________________________________________________\n",
      "block4_sepconv1_bn (BatchNormal (None, 28, 28, 728)  2912        block4_sepconv1[0][0]            \n",
      "__________________________________________________________________________________________________\n",
      "block4_sepconv2_act (Activation (None, 28, 28, 728)  0           block4_sepconv1_bn[0][0]         \n",
      "__________________________________________________________________________________________________\n",
      "block4_sepconv2 (SeparableConv2 (None, 28, 28, 728)  536536      block4_sepconv2_act[0][0]        \n",
      "__________________________________________________________________________________________________\n",
      "block4_sepconv2_bn (BatchNormal (None, 28, 28, 728)  2912        block4_sepconv2[0][0]            \n",
      "__________________________________________________________________________________________________\n",
      "conv2d_2 (Conv2D)               (None, 14, 14, 728)  186368      add_1[0][0]                      \n",
      "__________________________________________________________________________________________________\n",
      "block4_pool (MaxPooling2D)      (None, 14, 14, 728)  0           block4_sepconv2_bn[0][0]         \n",
      "__________________________________________________________________________________________________\n",
      "batch_normalization_2 (BatchNor (None, 14, 14, 728)  2912        conv2d_2[0][0]                   \n",
      "__________________________________________________________________________________________________\n",
      "add_2 (Add)                     (None, 14, 14, 728)  0           block4_pool[0][0]                \n",
      "                                                                 batch_normalization_2[0][0]      \n",
      "__________________________________________________________________________________________________\n",
      "block5_sepconv1_act (Activation (None, 14, 14, 728)  0           add_2[0][0]                      \n",
      "__________________________________________________________________________________________________\n",
      "block5_sepconv1 (SeparableConv2 (None, 14, 14, 728)  536536      block5_sepconv1_act[0][0]        \n",
      "__________________________________________________________________________________________________\n",
      "block5_sepconv1_bn (BatchNormal (None, 14, 14, 728)  2912        block5_sepconv1[0][0]            \n",
      "__________________________________________________________________________________________________\n",
      "block5_sepconv2_act (Activation (None, 14, 14, 728)  0           block5_sepconv1_bn[0][0]         \n",
      "__________________________________________________________________________________________________\n",
      "block5_sepconv2 (SeparableConv2 (None, 14, 14, 728)  536536      block5_sepconv2_act[0][0]        \n",
      "__________________________________________________________________________________________________\n",
      "block5_sepconv2_bn (BatchNormal (None, 14, 14, 728)  2912        block5_sepconv2[0][0]            \n",
      "__________________________________________________________________________________________________\n",
      "block5_sepconv3_act (Activation (None, 14, 14, 728)  0           block5_sepconv2_bn[0][0]         \n",
      "__________________________________________________________________________________________________\n",
      "block5_sepconv3 (SeparableConv2 (None, 14, 14, 728)  536536      block5_sepconv3_act[0][0]        \n",
      "__________________________________________________________________________________________________\n",
      "block5_sepconv3_bn (BatchNormal (None, 14, 14, 728)  2912        block5_sepconv3[0][0]            \n",
      "__________________________________________________________________________________________________\n",
      "add_3 (Add)                     (None, 14, 14, 728)  0           block5_sepconv3_bn[0][0]         \n",
      "                                                                 add_2[0][0]                      \n",
      "__________________________________________________________________________________________________\n",
      "block6_sepconv1_act (Activation (None, 14, 14, 728)  0           add_3[0][0]                      \n",
      "__________________________________________________________________________________________________\n",
      "block6_sepconv1 (SeparableConv2 (None, 14, 14, 728)  536536      block6_sepconv1_act[0][0]        \n",
      "__________________________________________________________________________________________________\n",
      "block6_sepconv1_bn (BatchNormal (None, 14, 14, 728)  2912        block6_sepconv1[0][0]            \n",
      "__________________________________________________________________________________________________\n",
      "block6_sepconv2_act (Activation (None, 14, 14, 728)  0           block6_sepconv1_bn[0][0]         \n",
      "__________________________________________________________________________________________________\n",
      "block6_sepconv2 (SeparableConv2 (None, 14, 14, 728)  536536      block6_sepconv2_act[0][0]        \n",
      "__________________________________________________________________________________________________\n",
      "block6_sepconv2_bn (BatchNormal (None, 14, 14, 728)  2912        block6_sepconv2[0][0]            \n",
      "__________________________________________________________________________________________________\n",
      "block6_sepconv3_act (Activation (None, 14, 14, 728)  0           block6_sepconv2_bn[0][0]         \n",
      "__________________________________________________________________________________________________\n",
      "block6_sepconv3 (SeparableConv2 (None, 14, 14, 728)  536536      block6_sepconv3_act[0][0]        \n",
      "__________________________________________________________________________________________________\n",
      "block6_sepconv3_bn (BatchNormal (None, 14, 14, 728)  2912        block6_sepconv3[0][0]            \n",
      "__________________________________________________________________________________________________\n",
      "add_4 (Add)                     (None, 14, 14, 728)  0           block6_sepconv3_bn[0][0]         \n",
      "                                                                 add_3[0][0]                      \n",
      "__________________________________________________________________________________________________\n",
      "block7_sepconv1_act (Activation (None, 14, 14, 728)  0           add_4[0][0]                      \n",
      "__________________________________________________________________________________________________\n",
      "block7_sepconv1 (SeparableConv2 (None, 14, 14, 728)  536536      block7_sepconv1_act[0][0]        \n",
      "__________________________________________________________________________________________________\n",
      "block7_sepconv1_bn (BatchNormal (None, 14, 14, 728)  2912        block7_sepconv1[0][0]            \n",
      "__________________________________________________________________________________________________\n",
      "block7_sepconv2_act (Activation (None, 14, 14, 728)  0           block7_sepconv1_bn[0][0]         \n",
      "__________________________________________________________________________________________________\n",
      "block7_sepconv2 (SeparableConv2 (None, 14, 14, 728)  536536      block7_sepconv2_act[0][0]        \n",
      "__________________________________________________________________________________________________\n",
      "block7_sepconv2_bn (BatchNormal (None, 14, 14, 728)  2912        block7_sepconv2[0][0]            \n",
      "__________________________________________________________________________________________________\n",
      "block7_sepconv3_act (Activation (None, 14, 14, 728)  0           block7_sepconv2_bn[0][0]         \n",
      "__________________________________________________________________________________________________\n",
      "block7_sepconv3 (SeparableConv2 (None, 14, 14, 728)  536536      block7_sepconv3_act[0][0]        \n",
      "__________________________________________________________________________________________________\n",
      "block7_sepconv3_bn (BatchNormal (None, 14, 14, 728)  2912        block7_sepconv3[0][0]            \n",
      "__________________________________________________________________________________________________\n",
      "add_5 (Add)                     (None, 14, 14, 728)  0           block7_sepconv3_bn[0][0]         \n",
      "                                                                 add_4[0][0]                      \n",
      "__________________________________________________________________________________________________\n",
      "block8_sepconv1_act (Activation (None, 14, 14, 728)  0           add_5[0][0]                      \n",
      "__________________________________________________________________________________________________\n",
      "block8_sepconv1 (SeparableConv2 (None, 14, 14, 728)  536536      block8_sepconv1_act[0][0]        \n",
      "__________________________________________________________________________________________________\n",
      "block8_sepconv1_bn (BatchNormal (None, 14, 14, 728)  2912        block8_sepconv1[0][0]            \n",
      "__________________________________________________________________________________________________\n",
      "block8_sepconv2_act (Activation (None, 14, 14, 728)  0           block8_sepconv1_bn[0][0]         \n",
      "__________________________________________________________________________________________________\n",
      "block8_sepconv2 (SeparableConv2 (None, 14, 14, 728)  536536      block8_sepconv2_act[0][0]        \n",
      "__________________________________________________________________________________________________\n",
      "block8_sepconv2_bn (BatchNormal (None, 14, 14, 728)  2912        block8_sepconv2[0][0]            \n",
      "__________________________________________________________________________________________________\n",
      "block8_sepconv3_act (Activation (None, 14, 14, 728)  0           block8_sepconv2_bn[0][0]         \n",
      "__________________________________________________________________________________________________\n",
      "block8_sepconv3 (SeparableConv2 (None, 14, 14, 728)  536536      block8_sepconv3_act[0][0]        \n",
      "__________________________________________________________________________________________________\n",
      "block8_sepconv3_bn (BatchNormal (None, 14, 14, 728)  2912        block8_sepconv3[0][0]            \n",
      "__________________________________________________________________________________________________\n",
      "add_6 (Add)                     (None, 14, 14, 728)  0           block8_sepconv3_bn[0][0]         \n",
      "                                                                 add_5[0][0]                      \n",
      "__________________________________________________________________________________________________\n",
      "block9_sepconv1_act (Activation (None, 14, 14, 728)  0           add_6[0][0]                      \n",
      "__________________________________________________________________________________________________\n",
      "block9_sepconv1 (SeparableConv2 (None, 14, 14, 728)  536536      block9_sepconv1_act[0][0]        \n",
      "__________________________________________________________________________________________________\n",
      "block9_sepconv1_bn (BatchNormal (None, 14, 14, 728)  2912        block9_sepconv1[0][0]            \n",
      "__________________________________________________________________________________________________\n",
      "block9_sepconv2_act (Activation (None, 14, 14, 728)  0           block9_sepconv1_bn[0][0]         \n",
      "__________________________________________________________________________________________________\n",
      "block9_sepconv2 (SeparableConv2 (None, 14, 14, 728)  536536      block9_sepconv2_act[0][0]        \n",
      "__________________________________________________________________________________________________\n",
      "block9_sepconv2_bn (BatchNormal (None, 14, 14, 728)  2912        block9_sepconv2[0][0]            \n",
      "__________________________________________________________________________________________________\n",
      "block9_sepconv3_act (Activation (None, 14, 14, 728)  0           block9_sepconv2_bn[0][0]         \n",
      "__________________________________________________________________________________________________\n",
      "block9_sepconv3 (SeparableConv2 (None, 14, 14, 728)  536536      block9_sepconv3_act[0][0]        \n",
      "__________________________________________________________________________________________________\n",
      "block9_sepconv3_bn (BatchNormal (None, 14, 14, 728)  2912        block9_sepconv3[0][0]            \n",
      "__________________________________________________________________________________________________\n",
      "add_7 (Add)                     (None, 14, 14, 728)  0           block9_sepconv3_bn[0][0]         \n",
      "                                                                 add_6[0][0]                      \n",
      "__________________________________________________________________________________________________\n",
      "block10_sepconv1_act (Activatio (None, 14, 14, 728)  0           add_7[0][0]                      \n",
      "__________________________________________________________________________________________________\n",
      "block10_sepconv1 (SeparableConv (None, 14, 14, 728)  536536      block10_sepconv1_act[0][0]       \n",
      "__________________________________________________________________________________________________\n",
      "block10_sepconv1_bn (BatchNorma (None, 14, 14, 728)  2912        block10_sepconv1[0][0]           \n",
      "__________________________________________________________________________________________________\n",
      "block10_sepconv2_act (Activatio (None, 14, 14, 728)  0           block10_sepconv1_bn[0][0]        \n",
      "__________________________________________________________________________________________________\n",
      "block10_sepconv2 (SeparableConv (None, 14, 14, 728)  536536      block10_sepconv2_act[0][0]       \n",
      "__________________________________________________________________________________________________\n",
      "block10_sepconv2_bn (BatchNorma (None, 14, 14, 728)  2912        block10_sepconv2[0][0]           \n",
      "__________________________________________________________________________________________________\n",
      "block10_sepconv3_act (Activatio (None, 14, 14, 728)  0           block10_sepconv2_bn[0][0]        \n",
      "__________________________________________________________________________________________________\n",
      "block10_sepconv3 (SeparableConv (None, 14, 14, 728)  536536      block10_sepconv3_act[0][0]       \n",
      "__________________________________________________________________________________________________\n",
      "block10_sepconv3_bn (BatchNorma (None, 14, 14, 728)  2912        block10_sepconv3[0][0]           \n",
      "__________________________________________________________________________________________________\n",
      "add_8 (Add)                     (None, 14, 14, 728)  0           block10_sepconv3_bn[0][0]        \n",
      "                                                                 add_7[0][0]                      \n",
      "__________________________________________________________________________________________________\n",
      "block11_sepconv1_act (Activatio (None, 14, 14, 728)  0           add_8[0][0]                      \n",
      "__________________________________________________________________________________________________\n",
      "block11_sepconv1 (SeparableConv (None, 14, 14, 728)  536536      block11_sepconv1_act[0][0]       \n",
      "__________________________________________________________________________________________________\n",
      "block11_sepconv1_bn (BatchNorma (None, 14, 14, 728)  2912        block11_sepconv1[0][0]           \n",
      "__________________________________________________________________________________________________\n",
      "block11_sepconv2_act (Activatio (None, 14, 14, 728)  0           block11_sepconv1_bn[0][0]        \n",
      "__________________________________________________________________________________________________\n",
      "block11_sepconv2 (SeparableConv (None, 14, 14, 728)  536536      block11_sepconv2_act[0][0]       \n",
      "__________________________________________________________________________________________________\n",
      "block11_sepconv2_bn (BatchNorma (None, 14, 14, 728)  2912        block11_sepconv2[0][0]           \n",
      "__________________________________________________________________________________________________\n",
      "block11_sepconv3_act (Activatio (None, 14, 14, 728)  0           block11_sepconv2_bn[0][0]        \n",
      "__________________________________________________________________________________________________\n",
      "block11_sepconv3 (SeparableConv (None, 14, 14, 728)  536536      block11_sepconv3_act[0][0]       \n",
      "__________________________________________________________________________________________________\n",
      "block11_sepconv3_bn (BatchNorma (None, 14, 14, 728)  2912        block11_sepconv3[0][0]           \n",
      "__________________________________________________________________________________________________\n",
      "add_9 (Add)                     (None, 14, 14, 728)  0           block11_sepconv3_bn[0][0]        \n",
      "                                                                 add_8[0][0]                      \n",
      "__________________________________________________________________________________________________\n",
      "block12_sepconv1_act (Activatio (None, 14, 14, 728)  0           add_9[0][0]                      \n",
      "__________________________________________________________________________________________________\n",
      "block12_sepconv1 (SeparableConv (None, 14, 14, 728)  536536      block12_sepconv1_act[0][0]       \n",
      "__________________________________________________________________________________________________\n",
      "block12_sepconv1_bn (BatchNorma (None, 14, 14, 728)  2912        block12_sepconv1[0][0]           \n",
      "__________________________________________________________________________________________________\n",
      "block12_sepconv2_act (Activatio (None, 14, 14, 728)  0           block12_sepconv1_bn[0][0]        \n",
      "__________________________________________________________________________________________________\n",
      "block12_sepconv2 (SeparableConv (None, 14, 14, 728)  536536      block12_sepconv2_act[0][0]       \n",
      "__________________________________________________________________________________________________\n",
      "block12_sepconv2_bn (BatchNorma (None, 14, 14, 728)  2912        block12_sepconv2[0][0]           \n",
      "__________________________________________________________________________________________________\n",
      "block12_sepconv3_act (Activatio (None, 14, 14, 728)  0           block12_sepconv2_bn[0][0]        \n",
      "__________________________________________________________________________________________________\n",
      "block12_sepconv3 (SeparableConv (None, 14, 14, 728)  536536      block12_sepconv3_act[0][0]       \n",
      "__________________________________________________________________________________________________\n",
      "block12_sepconv3_bn (BatchNorma (None, 14, 14, 728)  2912        block12_sepconv3[0][0]           \n",
      "__________________________________________________________________________________________________\n",
      "add_10 (Add)                    (None, 14, 14, 728)  0           block12_sepconv3_bn[0][0]        \n",
      "                                                                 add_9[0][0]                      \n",
      "__________________________________________________________________________________________________\n",
      "block13_sepconv1_act (Activatio (None, 14, 14, 728)  0           add_10[0][0]                     \n",
      "__________________________________________________________________________________________________\n",
      "block13_sepconv1 (SeparableConv (None, 14, 14, 728)  536536      block13_sepconv1_act[0][0]       \n",
      "__________________________________________________________________________________________________\n",
      "block13_sepconv1_bn (BatchNorma (None, 14, 14, 728)  2912        block13_sepconv1[0][0]           \n",
      "__________________________________________________________________________________________________\n",
      "block13_sepconv2_act (Activatio (None, 14, 14, 728)  0           block13_sepconv1_bn[0][0]        \n",
      "__________________________________________________________________________________________________\n",
      "block13_sepconv2 (SeparableConv (None, 14, 14, 1024) 752024      block13_sepconv2_act[0][0]       \n",
      "__________________________________________________________________________________________________\n",
      "block13_sepconv2_bn (BatchNorma (None, 14, 14, 1024) 4096        block13_sepconv2[0][0]           \n",
      "__________________________________________________________________________________________________\n",
      "conv2d_3 (Conv2D)               (None, 7, 7, 1024)   745472      add_10[0][0]                     \n",
      "__________________________________________________________________________________________________\n",
      "block13_pool (MaxPooling2D)     (None, 7, 7, 1024)   0           block13_sepconv2_bn[0][0]        \n",
      "__________________________________________________________________________________________________\n",
      "batch_normalization_3 (BatchNor (None, 7, 7, 1024)   4096        conv2d_3[0][0]                   \n",
      "__________________________________________________________________________________________________\n",
      "add_11 (Add)                    (None, 7, 7, 1024)   0           block13_pool[0][0]               \n",
      "                                                                 batch_normalization_3[0][0]      \n",
      "__________________________________________________________________________________________________\n",
      "block14_sepconv1 (SeparableConv (None, 7, 7, 1536)   1582080     add_11[0][0]                     \n",
      "__________________________________________________________________________________________________\n",
      "block14_sepconv1_bn (BatchNorma (None, 7, 7, 1536)   6144        block14_sepconv1[0][0]           \n",
      "__________________________________________________________________________________________________\n",
      "block14_sepconv1_act (Activatio (None, 7, 7, 1536)   0           block14_sepconv1_bn[0][0]        \n",
      "__________________________________________________________________________________________________\n",
      "block14_sepconv2 (SeparableConv (None, 7, 7, 2048)   3159552     block14_sepconv1_act[0][0]       \n",
      "__________________________________________________________________________________________________\n",
      "block14_sepconv2_bn (BatchNorma (None, 7, 7, 2048)   8192        block14_sepconv2[0][0]           \n",
      "__________________________________________________________________________________________________\n",
      "block14_sepconv2_act (Activatio (None, 7, 7, 2048)   0           block14_sepconv2_bn[0][0]        \n",
      "__________________________________________________________________________________________________\n",
      "global_average_pooling2d (Globa (None, 2048)         0           block14_sepconv2_act[0][0]       \n",
      "==================================================================================================\n",
      "Total params: 20,861,480\n",
      "Trainable params: 20,806,952\n",
      "Non-trainable params: 54,528\n",
      "__________________________________________________________________________________________________\n"
     ]
    }
   ],
   "source": [
    "model = xception.Xception(weights='imagenet', include_top=False, input_shape=(224, 224, 3),classes=28,pooling='avg')\n",
    "model.summary()"
   ]
  },
  {
   "cell_type": "code",
   "execution_count": 8,
   "id": "a1ed3c8c",
   "metadata": {
    "execution": {
     "iopub.execute_input": "2022-01-05T13:57:55.361202Z",
     "iopub.status.busy": "2022-01-05T13:57:55.360229Z",
     "iopub.status.idle": "2022-01-05T13:57:55.362671Z",
     "shell.execute_reply": "2022-01-05T13:57:55.361918Z",
     "shell.execute_reply.started": "2022-01-05T13:37:22.509277Z"
    },
    "papermill": {
     "duration": 0.054388,
     "end_time": "2022-01-05T13:57:55.362828",
     "exception": false,
     "start_time": "2022-01-05T13:57:55.308440",
     "status": "completed"
    },
    "tags": []
   },
   "outputs": [],
   "source": [
    "#plot_model(model, to_file='model_plot.png', show_shapes=True, show_layer_names=True)"
   ]
  },
  {
   "cell_type": "code",
   "execution_count": 9,
   "id": "0617c91a",
   "metadata": {
    "execution": {
     "iopub.execute_input": "2022-01-05T13:57:55.449146Z",
     "iopub.status.busy": "2022-01-05T13:57:55.448312Z",
     "iopub.status.idle": "2022-01-05T13:57:55.452824Z",
     "shell.execute_reply": "2022-01-05T13:57:55.453465Z",
     "shell.execute_reply.started": "2022-01-05T13:37:22.517856Z"
    },
    "papermill": {
     "duration": 0.05579,
     "end_time": "2022-01-05T13:57:55.453653",
     "exception": false,
     "start_time": "2022-01-05T13:57:55.397863",
     "status": "completed"
    },
    "tags": []
   },
   "outputs": [
    {
     "data": {
      "text/plain": [
       "133"
      ]
     },
     "execution_count": 9,
     "metadata": {},
     "output_type": "execute_result"
    }
   ],
   "source": [
    "count = 0\n",
    "for layer in model.layers:\n",
    "    count += 1\n",
    "count"
   ]
  },
  {
   "cell_type": "code",
   "execution_count": 10,
   "id": "a3b1c9db",
   "metadata": {
    "execution": {
     "iopub.execute_input": "2022-01-05T13:57:55.540154Z",
     "iopub.status.busy": "2022-01-05T13:57:55.538331Z",
     "iopub.status.idle": "2022-01-05T13:57:55.541023Z",
     "shell.execute_reply": "2022-01-05T13:57:55.539207Z",
     "shell.execute_reply.started": "2022-01-05T13:37:22.529720Z"
    },
    "papermill": {
     "duration": 0.052309,
     "end_time": "2022-01-05T13:57:55.541225",
     "exception": false,
     "start_time": "2022-01-05T13:57:55.488916",
     "status": "completed"
    },
    "tags": []
   },
   "outputs": [],
   "source": [
    "for layer in model.layers:\n",
    "    layer.trainable = False\n",
    "for layer in model.layers[-10:]:\n",
    "    layer.trainable = True"
   ]
  },
  {
   "cell_type": "code",
   "execution_count": 11,
   "id": "b476364d",
   "metadata": {
    "execution": {
     "iopub.execute_input": "2022-01-05T13:57:55.595060Z",
     "iopub.status.busy": "2022-01-05T13:57:55.594110Z",
     "iopub.status.idle": "2022-01-05T13:57:55.619090Z",
     "shell.execute_reply": "2022-01-05T13:57:55.618515Z",
     "shell.execute_reply.started": "2022-01-05T13:37:22.545031Z"
    },
    "papermill": {
     "duration": 0.050777,
     "end_time": "2022-01-05T13:57:55.619226",
     "exception": false,
     "start_time": "2022-01-05T13:57:55.568449",
     "status": "completed"
    },
    "tags": []
   },
   "outputs": [],
   "source": [
    "x= model.output\n",
    "x= tf.keras.layers.Dropout(.4)(x)\n",
    "output=Dense(28,activation='softmax')(x)\n",
    "fruits_xception= Model(model.input,output)"
   ]
  },
  {
   "cell_type": "code",
   "execution_count": 12,
   "id": "8b715db0",
   "metadata": {
    "execution": {
     "iopub.execute_input": "2022-01-05T13:57:55.681581Z",
     "iopub.status.busy": "2022-01-05T13:57:55.680974Z",
     "iopub.status.idle": "2022-01-05T14:17:48.397585Z",
     "shell.execute_reply": "2022-01-05T14:17:48.398370Z",
     "shell.execute_reply.started": "2022-01-05T13:37:22.575143Z"
    },
    "papermill": {
     "duration": 1192.752873,
     "end_time": "2022-01-05T14:17:48.398539",
     "exception": false,
     "start_time": "2022-01-05T13:57:55.645666",
     "status": "completed"
    },
    "tags": []
   },
   "outputs": [
    {
     "name": "stderr",
     "output_type": "stream",
     "text": [
      "2022-01-05 13:57:56.178333: I tensorflow/compiler/mlir/mlir_graph_optimization_pass.cc:185] None of the MLIR Optimization Passes are enabled (registered 2)\n"
     ]
    },
    {
     "name": "stdout",
     "output_type": "stream",
     "text": [
      "Epoch 1/50\n"
     ]
    },
    {
     "name": "stderr",
     "output_type": "stream",
     "text": [
      "2022-01-05 13:58:00.311394: I tensorflow/stream_executor/cuda/cuda_dnn.cc:369] Loaded cuDNN version 8005\n"
     ]
    },
    {
     "name": "stdout",
     "output_type": "stream",
     "text": [
      "65/65 [==============================] - 37s 420ms/step - loss: 2.7776 - acc: 0.3396 - val_loss: 1.8154 - val_acc: 0.4821\n",
      "Epoch 2/50\n",
      "65/65 [==============================] - 22s 339ms/step - loss: 1.8171 - acc: 0.5713 - val_loss: 1.1430 - val_acc: 0.6027\n",
      "Epoch 3/50\n",
      "65/65 [==============================] - 23s 346ms/step - loss: 1.2375 - acc: 0.7029 - val_loss: 0.7359 - val_acc: 0.7723\n",
      "Epoch 4/50\n",
      "65/65 [==============================] - 23s 342ms/step - loss: 0.9125 - acc: 0.7890 - val_loss: 0.5344 - val_acc: 0.8125\n",
      "Epoch 5/50\n",
      "65/65 [==============================] - 22s 337ms/step - loss: 0.7113 - acc: 0.8326 - val_loss: 0.4197 - val_acc: 0.8616\n",
      "Epoch 6/50\n",
      "65/65 [==============================] - 22s 335ms/step - loss: 0.5622 - acc: 0.8751 - val_loss: 0.3480 - val_acc: 0.8839\n",
      "Epoch 7/50\n",
      "65/65 [==============================] - 23s 342ms/step - loss: 0.4925 - acc: 0.8678 - val_loss: 0.3173 - val_acc: 0.8795\n",
      "Epoch 8/50\n",
      "65/65 [==============================] - 23s 346ms/step - loss: 0.3856 - acc: 0.9048 - val_loss: 0.2906 - val_acc: 0.8973\n",
      "Epoch 9/50\n",
      "65/65 [==============================] - 22s 335ms/step - loss: 0.3273 - acc: 0.9284 - val_loss: 0.2682 - val_acc: 0.9062\n",
      "Epoch 10/50\n",
      "65/65 [==============================] - 23s 342ms/step - loss: 0.3016 - acc: 0.9321 - val_loss: 0.2632 - val_acc: 0.9152\n",
      "Epoch 11/50\n",
      "65/65 [==============================] - 23s 347ms/step - loss: 0.2672 - acc: 0.9278 - val_loss: 0.2375 - val_acc: 0.9286\n",
      "Epoch 12/50\n",
      "65/65 [==============================] - 22s 339ms/step - loss: 0.2221 - acc: 0.9539 - val_loss: 0.2010 - val_acc: 0.9420\n",
      "Epoch 13/50\n",
      "65/65 [==============================] - 23s 348ms/step - loss: 0.2073 - acc: 0.9478 - val_loss: 0.1980 - val_acc: 0.9330\n",
      "Epoch 14/50\n",
      "65/65 [==============================] - 23s 348ms/step - loss: 0.1933 - acc: 0.9491 - val_loss: 0.1803 - val_acc: 0.9286\n",
      "Epoch 15/50\n",
      "65/65 [==============================] - 23s 345ms/step - loss: 0.1859 - acc: 0.9563 - val_loss: 0.1805 - val_acc: 0.9420\n",
      "Epoch 16/50\n",
      "65/65 [==============================] - 22s 338ms/step - loss: 0.1478 - acc: 0.9727 - val_loss: 0.1639 - val_acc: 0.9375\n",
      "Epoch 17/50\n",
      "65/65 [==============================] - 23s 344ms/step - loss: 0.1359 - acc: 0.9709 - val_loss: 0.1736 - val_acc: 0.9375\n",
      "Epoch 18/50\n",
      "65/65 [==============================] - 23s 346ms/step - loss: 0.1227 - acc: 0.9715 - val_loss: 0.1546 - val_acc: 0.9464\n",
      "Epoch 19/50\n",
      "65/65 [==============================] - 22s 336ms/step - loss: 0.1159 - acc: 0.9709 - val_loss: 0.1540 - val_acc: 0.9509\n",
      "Epoch 20/50\n",
      "65/65 [==============================] - 23s 347ms/step - loss: 0.0956 - acc: 0.9830 - val_loss: 0.1366 - val_acc: 0.9509\n",
      "Epoch 21/50\n",
      "65/65 [==============================] - 23s 347ms/step - loss: 0.1032 - acc: 0.9751 - val_loss: 0.1510 - val_acc: 0.9464\n",
      "Epoch 22/50\n",
      "65/65 [==============================] - 22s 339ms/step - loss: 0.0907 - acc: 0.9794 - val_loss: 0.1659 - val_acc: 0.9375\n",
      "Epoch 23/50\n",
      "65/65 [==============================] - 23s 347ms/step - loss: 0.0808 - acc: 0.9830 - val_loss: 0.1427 - val_acc: 0.9420\n",
      "Epoch 24/50\n",
      "65/65 [==============================] - 22s 338ms/step - loss: 0.0899 - acc: 0.9800 - val_loss: 0.1547 - val_acc: 0.9464\n",
      "Epoch 25/50\n",
      "65/65 [==============================] - 23s 348ms/step - loss: 0.0677 - acc: 0.9854 - val_loss: 0.1421 - val_acc: 0.9554\n",
      "Epoch 26/50\n",
      "65/65 [==============================] - 23s 344ms/step - loss: 0.0630 - acc: 0.9861 - val_loss: 0.1452 - val_acc: 0.9509\n",
      "Epoch 27/50\n",
      "65/65 [==============================] - 23s 348ms/step - loss: 0.0595 - acc: 0.9885 - val_loss: 0.1405 - val_acc: 0.9598\n",
      "Epoch 28/50\n",
      "65/65 [==============================] - 23s 343ms/step - loss: 0.0515 - acc: 0.9885 - val_loss: 0.1532 - val_acc: 0.9598\n",
      "Epoch 29/50\n",
      "65/65 [==============================] - 23s 346ms/step - loss: 0.0635 - acc: 0.9824 - val_loss: 0.1351 - val_acc: 0.9554\n",
      "Epoch 30/50\n",
      "65/65 [==============================] - 23s 342ms/step - loss: 0.0479 - acc: 0.9921 - val_loss: 0.1325 - val_acc: 0.9598\n",
      "Epoch 31/50\n",
      "65/65 [==============================] - 22s 339ms/step - loss: 0.0525 - acc: 0.9879 - val_loss: 0.1269 - val_acc: 0.9554\n",
      "Epoch 32/50\n",
      "65/65 [==============================] - 23s 350ms/step - loss: 0.0466 - acc: 0.9891 - val_loss: 0.1305 - val_acc: 0.9643\n",
      "Epoch 33/50\n",
      "65/65 [==============================] - 24s 357ms/step - loss: 0.0393 - acc: 0.9915 - val_loss: 0.1399 - val_acc: 0.9643\n",
      "Epoch 34/50\n",
      "65/65 [==============================] - 23s 342ms/step - loss: 0.0364 - acc: 0.9903 - val_loss: 0.1486 - val_acc: 0.9420\n",
      "Epoch 35/50\n",
      "65/65 [==============================] - 23s 346ms/step - loss: 0.0451 - acc: 0.9891 - val_loss: 0.1302 - val_acc: 0.9554\n",
      "Epoch 36/50\n",
      "65/65 [==============================] - 23s 353ms/step - loss: 0.0397 - acc: 0.9879 - val_loss: 0.1393 - val_acc: 0.9554\n",
      "Epoch 37/50\n",
      "65/65 [==============================] - 23s 348ms/step - loss: 0.0462 - acc: 0.9879 - val_loss: 0.1305 - val_acc: 0.9643\n",
      "Epoch 38/50\n",
      "65/65 [==============================] - 23s 353ms/step - loss: 0.0342 - acc: 0.9921 - val_loss: 0.1320 - val_acc: 0.9554\n",
      "Epoch 39/50\n",
      "65/65 [==============================] - 23s 351ms/step - loss: 0.0340 - acc: 0.9927 - val_loss: 0.1543 - val_acc: 0.9554\n",
      "Epoch 40/50\n",
      "65/65 [==============================] - 22s 335ms/step - loss: 0.0270 - acc: 0.9945 - val_loss: 0.1430 - val_acc: 0.9464\n",
      "Epoch 41/50\n",
      "65/65 [==============================] - 23s 354ms/step - loss: 0.0303 - acc: 0.9933 - val_loss: 0.1423 - val_acc: 0.9643\n",
      "Epoch 42/50\n",
      "65/65 [==============================] - 23s 354ms/step - loss: 0.0303 - acc: 0.9933 - val_loss: 0.1452 - val_acc: 0.9554\n",
      "Epoch 43/50\n",
      "65/65 [==============================] - 23s 342ms/step - loss: 0.0304 - acc: 0.9933 - val_loss: 0.1430 - val_acc: 0.9509\n",
      "Epoch 44/50\n",
      "65/65 [==============================] - 23s 354ms/step - loss: 0.0251 - acc: 0.9921 - val_loss: 0.1414 - val_acc: 0.9643\n",
      "Epoch 45/50\n",
      "65/65 [==============================] - 23s 351ms/step - loss: 0.0274 - acc: 0.9927 - val_loss: 0.1493 - val_acc: 0.9509\n",
      "Epoch 46/50\n",
      "65/65 [==============================] - 23s 352ms/step - loss: 0.0267 - acc: 0.9915 - val_loss: 0.1463 - val_acc: 0.9598\n",
      "Epoch 47/50\n",
      "65/65 [==============================] - 22s 336ms/step - loss: 0.0219 - acc: 0.9964 - val_loss: 0.1469 - val_acc: 0.9598\n",
      "Epoch 48/50\n",
      "65/65 [==============================] - 24s 360ms/step - loss: 0.0236 - acc: 0.9927 - val_loss: 0.1596 - val_acc: 0.9598\n",
      "Epoch 49/50\n",
      "65/65 [==============================] - 23s 353ms/step - loss: 0.0297 - acc: 0.9909 - val_loss: 0.1568 - val_acc: 0.9643\n",
      "Epoch 50/50\n",
      "65/65 [==============================] - 23s 350ms/step - loss: 0.0316 - acc: 0.9939 - val_loss: 0.1437 - val_acc: 0.9643\n"
     ]
    }
   ],
   "source": [
    "fruits_xception.compile(loss='categorical_crossentropy',\n",
    "              optimizer=optimizers.RMSprop(1e-4),\n",
    "              metrics=['acc'])\n",
    "\n",
    "es = EarlyStopping(monitor='val_accuracy', min_delta=0.01,patience= 3, verbose=1)\n",
    "mc = ModelCheckpoint(\"./fruits_best_xception.h5\", monitor='val_accuracy', verbose=1, save_best_only=True)\n",
    "cb=[es, mc]\n",
    "\n",
    "fit_generator = fruits_xception.fit(train_generator_aug,\n",
    "                                    steps_per_epoch=steps_train,\n",
    "                                    epochs=50,\n",
    "                                    validation_data=val_generator,\n",
    "                                    validation_steps=steps_val,\n",
    "                                    verbose=1,\n",
    "                                    callbacks=cb)"
   ]
  },
  {
   "cell_type": "code",
   "execution_count": 13,
   "id": "233b26e8",
   "metadata": {
    "execution": {
     "iopub.execute_input": "2022-01-05T14:17:50.748624Z",
     "iopub.status.busy": "2022-01-05T14:17:50.747776Z",
     "iopub.status.idle": "2022-01-05T14:17:51.131272Z",
     "shell.execute_reply": "2022-01-05T14:17:51.131695Z",
     "shell.execute_reply.started": "2022-01-05T13:57:21.594634Z"
    },
    "papermill": {
     "duration": 1.304885,
     "end_time": "2022-01-05T14:17:51.131840",
     "exception": false,
     "start_time": "2022-01-05T14:17:49.826955",
     "status": "completed"
    },
    "tags": []
   },
   "outputs": [
    {
     "data": {
      "image/png": "[encoded data removed]",
      "text/plain": [
       "<Figure size 432x288 with 1 Axes>"
      ]
     },
     "metadata": {
      "needs_background": "light"
     },
     "output_type": "display_data"
    },
    {
     "data": {
      "image/png": "[encoded data removed]",
      "text/plain": [
       "<Figure size 432x288 with 1 Axes>"
      ]
     },
     "metadata": {
      "needs_background": "light"
     },
     "output_type": "display_data"
    }
   ],
   "source": [
    "acc = fit_generator.history['acc']\n",
    "val_acc = fit_generator.history['val_acc']\n",
    "loss = fit_generator.history['loss']\n",
    "val_loss = fit_generator.history['val_loss']\n",
    "\n",
    "epochs = range(len(acc))\n",
    "plt.plot(epochs, acc, 'b', label='Training acc')\n",
    "plt.plot(epochs, val_acc, 'r', label='Validation acc')\n",
    "plt.title('Training and validation accuracy')\n",
    "plt.legend()\n",
    "plt.figure()\n",
    "\n",
    "plt.plot(epochs, loss, 'b', label='Training loss')\n",
    "plt.plot(epochs, val_loss, 'r', label='Validation loss')\n",
    "plt.title('Training and validation loss')\n",
    "plt.legend()\n",
    "plt.show()"
   ]
  },
  {
   "cell_type": "code",
   "execution_count": 14,
   "id": "155dde0b",
   "metadata": {
    "execution": {
     "iopub.execute_input": "2022-01-05T14:17:52.981375Z",
     "iopub.status.busy": "2022-01-05T14:17:52.945343Z",
     "iopub.status.idle": "2022-01-05T14:17:53.324306Z",
     "shell.execute_reply": "2022-01-05T14:17:53.323419Z",
     "shell.execute_reply.started": "2022-01-05T13:57:21.600844Z"
    },
    "papermill": {
     "duration": 1.279465,
     "end_time": "2022-01-05T14:17:53.324446",
     "exception": false,
     "start_time": "2022-01-05T14:17:52.044981",
     "status": "completed"
    },
    "tags": []
   },
   "outputs": [
    {
     "name": "stderr",
     "output_type": "stream",
     "text": [
      "/opt/conda/lib/python3.7/site-packages/keras/utils/generic_utils.py:497: CustomMaskWarning: Custom mask layers require a config and must override get_config. When loading, the custom mask layer must be passed to the custom_objects argument.\n",
      "  category=CustomMaskWarning)\n"
     ]
    }
   ],
   "source": [
    "fruits_xception.save('fruits_xception.h5')"
   ]
  },
  {
   "cell_type": "code",
   "execution_count": 15,
   "id": "5393c282",
   "metadata": {
    "execution": {
     "iopub.execute_input": "2022-01-05T14:17:55.123176Z",
     "iopub.status.busy": "2022-01-05T14:17:55.122351Z",
     "iopub.status.idle": "2022-01-05T14:18:18.361980Z",
     "shell.execute_reply": "2022-01-05T14:18:18.362565Z",
     "shell.execute_reply.started": "2022-01-05T13:57:21.605361Z"
    },
    "papermill": {
     "duration": 24.137556,
     "end_time": "2022-01-05T14:18:18.362768",
     "exception": false,
     "start_time": "2022-01-05T14:17:54.225212",
     "status": "completed"
    },
    "tags": []
   },
   "outputs": [
    {
     "name": "stderr",
     "output_type": "stream",
     "text": [
      "2022-01-05 14:18:02.783651: W tensorflow/python/util/util.cc:348] Sets are not currently considered sequences, but this may change in the future, so consider avoiding using them.\n",
      "/opt/conda/lib/python3.7/site-packages/keras/utils/generic_utils.py:497: CustomMaskWarning: Custom mask layers require a config and must override get_config. When loading, the custom mask layer must be passed to the custom_objects argument.\n",
      "  category=CustomMaskWarning)\n",
      "2022-01-05 14:18:15.129610: I tensorflow/stream_executor/cuda/cuda_gpu_executor.cc:937] successful NUMA node read from SysFS had negative value (-1), but there must be at least one NUMA node, so returning NUMA node zero\n",
      "2022-01-05 14:18:15.130001: I tensorflow/core/grappler/devices.cc:66] Number of eligible GPUs (core count >= 8, compute capability >= 0.0): 1\n",
      "2022-01-05 14:18:15.130174: I tensorflow/core/grappler/clusters/single_machine.cc:357] Starting new session\n",
      "2022-01-05 14:18:15.130676: I tensorflow/stream_executor/cuda/cuda_gpu_executor.cc:937] successful NUMA node read from SysFS had negative value (-1), but there must be at least one NUMA node, so returning NUMA node zero\n",
      "2022-01-05 14:18:15.131125: I tensorflow/stream_executor/cuda/cuda_gpu_executor.cc:937] successful NUMA node read from SysFS had negative value (-1), but there must be at least one NUMA node, so returning NUMA node zero\n",
      "2022-01-05 14:18:15.131467: I tensorflow/stream_executor/cuda/cuda_gpu_executor.cc:937] successful NUMA node read from SysFS had negative value (-1), but there must be at least one NUMA node, so returning NUMA node zero\n",
      "2022-01-05 14:18:15.131868: I tensorflow/stream_executor/cuda/cuda_gpu_executor.cc:937] successful NUMA node read from SysFS had negative value (-1), but there must be at least one NUMA node, so returning NUMA node zero\n",
      "2022-01-05 14:18:15.132231: I tensorflow/stream_executor/cuda/cuda_gpu_executor.cc:937] successful NUMA node read from SysFS had negative value (-1), but there must be at least one NUMA node, so returning NUMA node zero\n",
      "2022-01-05 14:18:15.132505: I tensorflow/core/common_runtime/gpu/gpu_device.cc:1510] Created device /job:localhost/replica:0/task:0/device:GPU:0 with 15403 MB memory:  -> device: 0, name: Tesla P100-PCIE-16GB, pci bus id: 0000:00:04.0, compute capability: 6.0\n",
      "2022-01-05 14:18:15.147557: I tensorflow/core/grappler/optimizers/meta_optimizer.cc:1137] Optimization results for grappler item: graph_to_optimize\n",
      "  function_optimizer: function_optimizer did nothing. time = 0.009ms.\n",
      "  function_optimizer: function_optimizer did nothing. time = 0.001ms.\n",
      "\n",
      "2022-01-05 14:18:17.297411: W tensorflow/compiler/mlir/lite/python/tf_tfl_flatbuffer_helpers.cc:351] Ignored output_format.\n",
      "2022-01-05 14:18:17.297467: W tensorflow/compiler/mlir/lite/python/tf_tfl_flatbuffer_helpers.cc:354] Ignored drop_control_dependency.\n",
      "2022-01-05 14:18:17.458633: I tensorflow/compiler/mlir/tensorflow/utils/dump_mlir_util.cc:210] disabling MLIR crash reproducer, set env var `MLIR_CRASH_REPRODUCER_DIRECTORY` to enable.\n"
     ]
    }
   ],
   "source": [
    "# Convert the model.\n",
    "converter = tf.lite.TFLiteConverter.from_keras_model(fruits_xception)\n",
    "tflite_model = converter.convert()\n",
    "\n",
    "# Save the model.\n",
    "with open('fruits_xception.tflite', 'wb') as f:\n",
    "    f.write(tflite_model)"
   ]
  },
  {
   "cell_type": "markdown",
   "id": "7e1f2b25",
   "metadata": {
    "papermill": {
     "duration": 0.900285,
     "end_time": "2022-01-05T14:18:20.174194",
     "exception": false,
     "start_time": "2022-01-05T14:18:19.273909",
     "status": "completed"
    },
    "tags": []
   },
   "source": [
    "## Predict"
   ]
  },
  {
   "cell_type": "code",
   "execution_count": 16,
   "id": "5c0354b2",
   "metadata": {
    "execution": {
     "iopub.execute_input": "2022-01-05T14:18:22.464859Z",
     "iopub.status.busy": "2022-01-05T14:18:22.464004Z",
     "iopub.status.idle": "2022-01-05T14:18:27.757242Z",
     "shell.execute_reply": "2022-01-05T14:18:27.756480Z",
     "shell.execute_reply.started": "2022-01-05T13:57:21.607253Z"
    },
    "papermill": {
     "duration": 6.19048,
     "end_time": "2022-01-05T14:18:27.757392",
     "exception": false,
     "start_time": "2022-01-05T14:18:21.566912",
     "status": "completed"
    },
    "tags": []
   },
   "outputs": [
    {
     "name": "stdout",
     "output_type": "stream",
     "text": [
      "497/497 - 5s\n"
     ]
    }
   ],
   "source": [
    "fruits_pred= fruits_xception.predict(test_generator, steps = nb_samples_test, verbose=2)\n",
    "fruits_pred= fruits_pred.argmax(axis=1)"
   ]
  },
  {
   "cell_type": "markdown",
   "id": "ee5dd15d",
   "metadata": {
    "papermill": {
     "duration": 1.143602,
     "end_time": "2022-01-05T14:18:29.786462",
     "exception": false,
     "start_time": "2022-01-05T14:18:28.642860",
     "status": "completed"
    },
    "tags": []
   },
   "source": [
    "### Classification Report"
   ]
  },
  {
   "cell_type": "code",
   "execution_count": 17,
   "id": "bd403e2d",
   "metadata": {
    "execution": {
     "iopub.execute_input": "2022-01-05T14:18:31.602779Z",
     "iopub.status.busy": "2022-01-05T14:18:31.602084Z",
     "iopub.status.idle": "2022-01-05T14:18:31.612784Z",
     "shell.execute_reply": "2022-01-05T14:18:31.613519Z",
     "shell.execute_reply.started": "2022-01-05T13:57:21.610206Z"
    },
    "papermill": {
     "duration": 0.938593,
     "end_time": "2022-01-05T14:18:31.613767",
     "exception": false,
     "start_time": "2022-01-05T14:18:30.675174",
     "status": "completed"
    },
    "tags": []
   },
   "outputs": [
    {
     "name": "stdout",
     "output_type": "stream",
     "text": [
      "                  precision    recall  f1-score   support\n",
      "\n",
      "        Satsumas       1.00      1.00      1.00        16\n",
      "       Pink-Lady       1.00      1.00      1.00        18\n",
      "          Orange       1.00      1.00      1.00        20\n",
      "      Royal-Gala       0.95      1.00      0.97        18\n",
      "   Passion-Fruit       1.00      1.00      1.00        20\n",
      "            Lime       0.93      0.93      0.93        14\n",
      "   Red-Delicious       0.95      0.95      0.95        20\n",
      "     Pomegranate       0.96      0.96      0.96        25\n",
      "            Plum       1.00      1.00      1.00        16\n",
      "       Pineapple       1.00      0.92      0.96        13\n",
      "          Papaya       0.91      1.00      0.95        20\n",
      "            Kiwi       0.95      0.95      0.95        19\n",
      "  Red-Grapefruit       1.00      1.00      1.00        14\n",
      "      Conference       1.00      1.00      1.00        14\n",
      "       Nectarine       1.00      0.93      0.97        15\n",
      "          Kaiser       0.92      0.92      0.92        25\n",
      "    Granny-Smith       1.00      1.00      1.00         9\n",
      "  Honeydew-Melon       1.00      0.92      0.96        12\n",
      "           Lemon       1.00      1.00      1.00        17\n",
      "     Galia-Melon       1.00      1.00      1.00        12\n",
      "         Avocado       0.96      1.00      0.98        25\n",
      "           Anjou       1.00      1.00      1.00        10\n",
      "      Cantaloupe       1.00      1.00      1.00        12\n",
      "           Peach       1.00      1.00      1.00        20\n",
      "Golden-Delicious       0.82      0.93      0.87        15\n",
      "          Banana       0.96      0.96      0.96        28\n",
      "      Watermelon       1.00      0.90      0.95        29\n",
      "           Mango       1.00      1.00      1.00        21\n",
      "\n",
      "        accuracy                           0.97       497\n",
      "       macro avg       0.98      0.97      0.97       497\n",
      "    weighted avg       0.97      0.97      0.97       497\n",
      "\n"
     ]
    }
   ],
   "source": [
    "print(classification_report(true_classes, fruits_pred, target_names=target_names))"
   ]
  }
 ],
 "metadata": {
  "kernelspec": {
   "display_name": "Python 3",
   "language": "python",
   "name": "python3"
  },
  "language_info": {
   "codemirror_mode": {
    "name": "ipython",
    "version": 3
   },
   "file_extension": ".py",
   "mimetype": "text/x-python",
   "name": "python",
   "nbconvert_exporter": "python",
   "pygments_lexer": "ipython3",
   "version": "3.7.12"
  },
  "papermill": {
   "default_parameters": {},
   "duration": 1260.237076,
   "end_time": "2022-01-05T14:18:36.095768",
   "environment_variables": {},
   "exception": null,
   "input_path": "__notebook__.ipynb",
   "output_path": "__notebook__.ipynb",
   "parameters": {},
   "start_time": "2022-01-05T13:57:35.858692",
   "version": "2.3.3"
  }
 },
 "nbformat": 4,
 "nbformat_minor": 5
}
